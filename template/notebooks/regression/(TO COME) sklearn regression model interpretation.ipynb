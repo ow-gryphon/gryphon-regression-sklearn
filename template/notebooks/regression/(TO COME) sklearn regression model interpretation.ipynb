{
 "cells": [
  {
   "cell_type": "markdown",
   "id": "995e76b5",
   "metadata": {},
   "source": [
    "**Model interpretation**\n",
    "\n",
    "Some models, such as linear regression and decision trees, are straightforward to interpret. While others, such as random forest, gradient boosting, ensemble models, require further analysis to interpret.\n",
    "\n",
    "An overview of methods and links to code is provided in https://christophm.github.io/interpretable-ml-book/index.html (see particularly sections 6-9)"
   ]
  }
 ],
 "metadata": {
  "kernelspec": {
   "display_name": "Python 3 (ipykernel)",
   "language": "python",
   "name": "python3"
  },
  "language_info": {
   "codemirror_mode": {
    "name": "ipython",
    "version": 3
   },
   "file_extension": ".py",
   "mimetype": "text/x-python",
   "name": "python",
   "nbconvert_exporter": "python",
   "pygments_lexer": "ipython3",
   "version": "3.9.5"
  },
  "toc": {
   "base_numbering": 1,
   "nav_menu": {},
   "number_sections": true,
   "sideBar": true,
   "skip_h1_title": false,
   "title_cell": "Table of Contents",
   "title_sidebar": "Contents",
   "toc_cell": false,
   "toc_position": {},
   "toc_section_display": true,
   "toc_window_display": false
  }
 },
 "nbformat": 4,
 "nbformat_minor": 5
}
