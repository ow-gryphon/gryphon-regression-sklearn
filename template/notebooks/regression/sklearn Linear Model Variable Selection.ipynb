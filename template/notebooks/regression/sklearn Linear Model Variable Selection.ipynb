{
 "cells": [
  {
   "cell_type": "markdown",
   "id": "25759f2a",
   "metadata": {},
   "source": [
    "<div class=\"alert alert-danger\" role=\"alert\">\n",
    "    <span style=\"font-size:20px\">&#9888;</span> <span style=\"font-size:16px\">This is a read-only notebook! If you want to make and save changes, save a copy by clicking on <b>File</b> &#8594; <b>Save a copy</b>. If this is already a copy, you can delete this cell.</span>\n",
    "</div>"
   ]
  },
  {
   "cell_type": "markdown",
   "id": "555164e9",
   "metadata": {},
   "source": [
    "<h1>Variable selection methods for linear models in sklearn<span class=\"tocSkip\"></span></h1>"
   ]
  },
  {
   "cell_type": "markdown",
   "id": "a6a506cb",
   "metadata": {},
   "source": [
    "This notebook offers a few different methods for identifying key variables and candidate models.\n",
    "\n",
    "* Single Factor Regression\n",
    "* Step-wise selection\n",
    "* Subset selection (combination of multiple variables)\n",
    "* L1 Regularized Regression (Lasso)\n",
    "* Manual specification of model candidates (e.g. slight variations of a favored model)\n",
    "\n",
    "All of these methods are available for Linear Regressions, and some are available for Generalized Linear Models\n",
    "\n",
    "Since we use Sklearn, thees do not produce inference (e.g. p-values). If you care about estimating p-values, please use the Econometrics regression template (instead of the sklearn regression)\n",
    "\n",
    "**Note: This notebook doesn't yet support weighted regression. Future work with weighted regression will follow**"
   ]
  },
  {
   "cell_type": "markdown",
   "id": "c2183c93",
   "metadata": {},
   "source": [
    "<h2>Table of Contents<span class=\"tocSkip\"></span></h2>\n",
    "<ul class=\"toc-item\"><li><span><a href=\"#Variable-selection-methods-for-linear-models-in-sklearn\" data-toc-modified-id=\"Variable-selection-methods-for-linear-models-in-sklearn-1\"><span class=\"toc-item-num\">1&nbsp;&nbsp;</span>Variable selection methods for linear models in sklearn</a></span></li><li><span><a href=\"#Import-key-libraries\" data-toc-modified-id=\"Import-key-libraries-2\"><span class=\"toc-item-num\">2&nbsp;&nbsp;</span>Import key libraries</a></span></li><li><span><a href=\"#Load-dataset\" data-toc-modified-id=\"Load-dataset-3\"><span class=\"toc-item-num\">3&nbsp;&nbsp;</span>Load dataset</a></span><ul class=\"toc-item\"><li><span><a href=\"#x-variable-transformation\" data-toc-modified-id=\"x-variable-transformation-3.1\"><span class=\"toc-item-num\">3.1&nbsp;&nbsp;</span>x-variable transformation</a></span></li><li><span><a href=\"#New-heading\" data-toc-modified-id=\"New-heading-3.2\"><span class=\"toc-item-num\">3.2&nbsp;&nbsp;</span>New heading</a></span></li></ul></li><li><span><a href=\"#Single-Factor-Analysis\" data-toc-modified-id=\"Single-Factor-Analysis-4\"><span class=\"toc-item-num\">4&nbsp;&nbsp;</span>Single Factor Analysis</a></span><ul class=\"toc-item\"><li><span><a href=\"#Wrapper-functions-for-SFA-regression-for-popular-model-choices\" data-toc-modified-id=\"Wrapper-functions-for-SFA-regression-for-popular-model-choices-4.1\"><span class=\"toc-item-num\">4.1&nbsp;&nbsp;</span>Wrapper functions for SFA regression for popular model choices</a></span></li></ul></li><li><span><a href=\"#Stepwise-and-subsets-variable-selection\" data-toc-modified-id=\"Stepwise-and-subsets-variable-selection-5\"><span class=\"toc-item-num\">5&nbsp;&nbsp;</span>Stepwise and subsets variable selection</a></span><ul class=\"toc-item\"><li><span><a href=\"#Using-basic-functionality-provided-by-Sklearn\" data-toc-modified-id=\"Using-basic-functionality-provided-by-Sklearn-5.1\"><span class=\"toc-item-num\">5.1&nbsp;&nbsp;</span>Using basic functionality provided by Sklearn</a></span><ul class=\"toc-item\"><li><span><a href=\"#Recursive-Feature-Elimination-(RFE)\" data-toc-modified-id=\"Recursive-Feature-Elimination-(RFE)-5.1.1\"><span class=\"toc-item-num\">5.1.1&nbsp;&nbsp;</span>Recursive Feature Elimination (RFE)</a></span></li><li><span><a href=\"#Sequential-Feature-Selector\" data-toc-modified-id=\"Sequential-Feature-Selector-5.1.2\"><span class=\"toc-item-num\">5.1.2&nbsp;&nbsp;</span>Sequential Feature Selector</a></span></li><li><span><a href=\"#SelectFromModel\" data-toc-modified-id=\"SelectFromModel-5.1.3\"><span class=\"toc-item-num\">5.1.3&nbsp;&nbsp;</span>SelectFromModel</a></span></li><li><span><a href=\"#SelectKBest\" data-toc-modified-id=\"SelectKBest-5.1.4\"><span class=\"toc-item-num\">5.1.4&nbsp;&nbsp;</span>SelectKBest</a></span></li></ul></li><li><span><a href=\"#Using-mlextend's-Stepwise-search\" data-toc-modified-id=\"Using-mlextend's-Stepwise-search-5.2\"><span class=\"toc-item-num\">5.2&nbsp;&nbsp;</span>Using mlextend's Stepwise search</a></span><ul class=\"toc-item\"><li><span><a href=\"#Forward-selection\" data-toc-modified-id=\"Forward-selection-5.2.1\"><span class=\"toc-item-num\">5.2.1&nbsp;&nbsp;</span>Forward selection</a></span></li><li><span><a href=\"#Backward-selection-(with-floating-algorithm)\" data-toc-modified-id=\"Backward-selection-(with-floating-algorithm)-5.2.2\"><span class=\"toc-item-num\">5.2.2&nbsp;&nbsp;</span>Backward selection (with floating algorithm)</a></span></li><li><span><a href=\"#Additional-capabilities-of-mlextend's-sequential-search\" data-toc-modified-id=\"Additional-capabilities-of-mlextend's-sequential-search-5.2.3\"><span class=\"toc-item-num\">5.2.3&nbsp;&nbsp;</span>Additional capabilities of mlextend's sequential search</a></span></li></ul></li><li><span><a href=\"#Using-mlextend's-Exhaustive-search-(all-combinations)\" data-toc-modified-id=\"Using-mlextend's-Exhaustive-search-(all-combinations)-5.3\"><span class=\"toc-item-num\">5.3&nbsp;&nbsp;</span>Using mlextend's Exhaustive search (all combinations)</a></span></li></ul></li><li><span><a href=\"#Use-of-regularized-regression-(LASSO)-for-variable-selection\" data-toc-modified-id=\"Use-of-regularized-regression-(LASSO)-for-variable-selection-6\"><span class=\"toc-item-num\">6&nbsp;&nbsp;</span>Use of regularized regression (LASSO) for variable selection</a></span></li><li><span><a href=\"#Selection-from-custom-list-of-multifactor-regression-results\" data-toc-modified-id=\"Selection-from-custom-list-of-multifactor-regression-results-7\"><span class=\"toc-item-num\">7&nbsp;&nbsp;</span>Selection from custom list of multifactor regression results</a></span></li><li><span><a href=\"#Experimental-methods\" data-toc-modified-id=\"Experimental-methods-8\"><span class=\"toc-item-num\">8&nbsp;&nbsp;</span>Experimental methods</a></span><ul class=\"toc-item\"><li><span><a href=\"#Custom-step-wise-methods-for-Generalized-Linear-Models\" data-toc-modified-id=\"Custom-step-wise-methods-for-Generalized-Linear-Models-8.1\"><span class=\"toc-item-num\">8.1&nbsp;&nbsp;</span>Custom step-wise methods for Generalized Linear Models</a></span></li></ul></li></ul></div>"
   ]
  },
  {
   "cell_type": "markdown",
   "id": "285cfbc5",
   "metadata": {},
   "source": [
    "# Import key libraries"
   ]
  },
  {
   "cell_type": "code",
   "execution_count": 197,
   "id": "adad11d3",
   "metadata": {},
   "outputs": [],
   "source": [
    "import pandas as pd\n",
    "import numpy as np\n",
    "import scipy as sc\n",
    "from sklearn import linear_model, ensemble, tree, metrics \n",
    "import matplotlib.pyplot as plt\n",
    "%matplotlib inline\n",
    "from sklearn.datasets import fetch_california_housing # Datasets for illustration purposes\n",
    "\n",
    "# Formatting of pandas dataframe\n",
    "pd.options.display.float_format = '{:,.4f}'.format"
   ]
  },
  {
   "cell_type": "markdown",
   "id": "6072e623",
   "metadata": {},
   "source": [
    "**Import code stored in the utilities folder**"
   ]
  },
  {
   "cell_type": "code",
   "execution_count": 142,
   "id": "b33fd5ec",
   "metadata": {},
   "outputs": [
    {
     "name": "stdout",
     "output_type": "stream",
     "text": [
      "The autoreload extension is already loaded. To reload it, use:\n",
      "  %reload_ext autoreload\n"
     ]
    }
   ],
   "source": [
    "# Automatically update custom py scripts that are loaded in\n",
    "%load_ext autoreload\n",
    "%autoreload 2\n",
    "\n",
    "# Load in OW color scheme and plot style\n",
    "plt.style.use('../../utilities/resources/ow_style.mplstyle')\n",
    "\n",
    "# Add path of the folder 'resources' to the path from which we can import modules  \n",
    "import sys\n",
    "sys.path.insert(0, \"../../utilities\")\n",
    "from resources.ow_colormap import ow_colormap \n",
    "from regression import sklearn_regression_tools\n",
    "from model_plots import model_comparison"
   ]
  },
  {
   "cell_type": "markdown",
   "id": "a665295a",
   "metadata": {},
   "source": [
    "# Load dataset"
   ]
  },
  {
   "cell_type": "code",
   "execution_count": 200,
   "id": "b7b3f80d",
   "metadata": {},
   "outputs": [
    {
     "data": {
      "text/html": [
       "<div>\n",
       "<style scoped>\n",
       "    .dataframe tbody tr th:only-of-type {\n",
       "        vertical-align: middle;\n",
       "    }\n",
       "\n",
       "    .dataframe tbody tr th {\n",
       "        vertical-align: top;\n",
       "    }\n",
       "\n",
       "    .dataframe thead th {\n",
       "        text-align: right;\n",
       "    }\n",
       "</style>\n",
       "<table border=\"1\" class=\"dataframe\">\n",
       "  <thead>\n",
       "    <tr style=\"text-align: right;\">\n",
       "      <th></th>\n",
       "      <th>MedInc</th>\n",
       "      <th>HouseAge</th>\n",
       "      <th>AveRooms</th>\n",
       "      <th>AveBedrms</th>\n",
       "      <th>Population</th>\n",
       "      <th>AveOccup</th>\n",
       "      <th>Latitude</th>\n",
       "      <th>Longitude</th>\n",
       "      <th>MedHouseVal</th>\n",
       "    </tr>\n",
       "  </thead>\n",
       "  <tbody>\n",
       "    <tr>\n",
       "      <th>0</th>\n",
       "      <td>8.3252</td>\n",
       "      <td>41.0000</td>\n",
       "      <td>6.9841</td>\n",
       "      <td>1.0238</td>\n",
       "      <td>322.0000</td>\n",
       "      <td>2.5556</td>\n",
       "      <td>37.8800</td>\n",
       "      <td>-122.2300</td>\n",
       "      <td>4.5260</td>\n",
       "    </tr>\n",
       "    <tr>\n",
       "      <th>1</th>\n",
       "      <td>8.3014</td>\n",
       "      <td>21.0000</td>\n",
       "      <td>6.2381</td>\n",
       "      <td>0.9719</td>\n",
       "      <td>2,401.0000</td>\n",
       "      <td>2.1098</td>\n",
       "      <td>37.8600</td>\n",
       "      <td>-122.2200</td>\n",
       "      <td>3.5850</td>\n",
       "    </tr>\n",
       "    <tr>\n",
       "      <th>2</th>\n",
       "      <td>7.2574</td>\n",
       "      <td>52.0000</td>\n",
       "      <td>8.2881</td>\n",
       "      <td>1.0734</td>\n",
       "      <td>496.0000</td>\n",
       "      <td>2.8023</td>\n",
       "      <td>37.8500</td>\n",
       "      <td>-122.2400</td>\n",
       "      <td>3.5210</td>\n",
       "    </tr>\n",
       "    <tr>\n",
       "      <th>3</th>\n",
       "      <td>5.6431</td>\n",
       "      <td>52.0000</td>\n",
       "      <td>5.8174</td>\n",
       "      <td>1.0731</td>\n",
       "      <td>558.0000</td>\n",
       "      <td>2.5479</td>\n",
       "      <td>37.8500</td>\n",
       "      <td>-122.2500</td>\n",
       "      <td>3.4130</td>\n",
       "    </tr>\n",
       "    <tr>\n",
       "      <th>4</th>\n",
       "      <td>3.8462</td>\n",
       "      <td>52.0000</td>\n",
       "      <td>6.2819</td>\n",
       "      <td>1.0811</td>\n",
       "      <td>565.0000</td>\n",
       "      <td>2.1815</td>\n",
       "      <td>37.8500</td>\n",
       "      <td>-122.2500</td>\n",
       "      <td>3.4220</td>\n",
       "    </tr>\n",
       "  </tbody>\n",
       "</table>\n",
       "</div>"
      ],
      "text/plain": [
       "   MedInc  HouseAge  AveRooms  AveBedrms  Population  AveOccup  Latitude  \\\n",
       "0  8.3252   41.0000    6.9841     1.0238    322.0000    2.5556   37.8800   \n",
       "1  8.3014   21.0000    6.2381     0.9719  2,401.0000    2.1098   37.8600   \n",
       "2  7.2574   52.0000    8.2881     1.0734    496.0000    2.8023   37.8500   \n",
       "3  5.6431   52.0000    5.8174     1.0731    558.0000    2.5479   37.8500   \n",
       "4  3.8462   52.0000    6.2819     1.0811    565.0000    2.1815   37.8500   \n",
       "\n",
       "   Longitude  MedHouseVal  \n",
       "0  -122.2300       4.5260  \n",
       "1  -122.2200       3.5850  \n",
       "2  -122.2400       3.5210  \n",
       "3  -122.2500       3.4130  \n",
       "4  -122.2500       3.4220  "
      ]
     },
     "execution_count": 200,
     "metadata": {},
     "output_type": "execute_result"
    }
   ],
   "source": [
    "# Load in California housing data for regression modeling (requires internet connection)\n",
    "\n",
    "housing = fetch_california_housing()\n",
    "dataset = pd.DataFrame(housing.data,columns=housing.feature_names)\n",
    "dataset[housing.target_names[0]] = pd.Series(housing.target)\n",
    "\n",
    "# Show dataset\n",
    "dataset.head()"
   ]
  },
  {
   "cell_type": "markdown",
   "id": "92965192",
   "metadata": {},
   "source": [
    "## x-variable transformation\n",
    "\n",
    "Create a log-population variable to avoid highly skewed data."
   ]
  },
  {
   "cell_type": "code",
   "execution_count": 201,
   "id": "03202226",
   "metadata": {},
   "outputs": [],
   "source": [
    "dataset['Log_Population'] = np.log(dataset['Population'])"
   ]
  },
  {
   "cell_type": "code",
   "execution_count": 6,
   "id": "73d0d810",
   "metadata": {},
   "outputs": [
    {
     "data": {
      "image/png": "[encoded data removed]",
      "text/plain": [
       "<Figure size 864x360 with 2 Axes>"
      ]
     },
     "metadata": {
      "needs_background": "light"
     },
     "output_type": "display_data"
    }
   ],
   "source": [
    "fig, axs = plt.subplots(nrows=1, ncols=2, figsize=(12,5))\n",
    "dataset['Population'].hist(ax=axs[0]); axs[0].set_title(\"Population\")\n",
    "dataset['Log_Population'].hist(ax=axs[1]); axs[1].set_title(\"Log Population\");"
   ]
  },
  {
   "cell_type": "markdown",
   "id": "936d992b",
   "metadata": {},
   "source": [
    "## New heading"
   ]
  },
  {
   "cell_type": "markdown",
   "id": "a5bb0fdd",
   "metadata": {},
   "source": [
    "# Single Factor Analysis\n",
    "\n",
    "Single Factor analysis explores the impact of each individual x-variable in a model. You can optionally specify a forced in set of variables, and use this analysis to find incremental variables.\n",
    "\n",
    "You can use any linear model from sklearn for this: https://scikit-learn.org/stable/modules/linear_model.html, and possibly also other sklearn models (random forest, GBM etc.)"
   ]
  },
  {
   "cell_type": "code",
   "execution_count": 7,
   "id": "9f878d99",
   "metadata": {},
   "outputs": [],
   "source": [
    "model = linear_model.LinearRegression(fit_intercept=True)\n",
    "DV = \"MedHouseVal\"\n",
    "IVs = [\"MedInc\", \"AveBedrms\", \"Population\", \"Log_Population\", \"AveOccup\"]\n",
    "forced_in = [\"HouseAge\", \"AveRooms\"]\n",
    "get_fitted = True"
   ]
  },
  {
   "cell_type": "code",
   "execution_count": 8,
   "id": "bb3d680b",
   "metadata": {},
   "outputs": [
    {
     "name": "stdout",
     "output_type": "stream",
     "text": [
      "Working on MedInc, which is #1 out of 5\n",
      "Working on AveBedrms, which is #2 out of 5\n",
      "Working on Population, which is #3 out of 5\n",
      "Working on Log_Population, which is #4 out of 5\n",
      "Working on AveOccup, which is #5 out of 5\n"
     ]
    }
   ],
   "source": [
    "sfa_results, sfa_fitted_values = sklearn_regression_tools.sfa_linear_model(model, dataset, DV, IVs, forced_in, get_fitted=True)"
   ]
  },
  {
   "cell_type": "markdown",
   "id": "0a682a65",
   "metadata": {},
   "source": [
    "**View single factor regression outputs**"
   ]
  },
  {
   "cell_type": "code",
   "execution_count": 9,
   "id": "b7cd78e8",
   "metadata": {},
   "outputs": [
    {
     "data": {
      "text/html": [
       "<div>\n",
       "<style scoped>\n",
       "    .dataframe tbody tr th:only-of-type {\n",
       "        vertical-align: middle;\n",
       "    }\n",
       "\n",
       "    .dataframe tbody tr th {\n",
       "        vertical-align: top;\n",
       "    }\n",
       "\n",
       "    .dataframe thead th {\n",
       "        text-align: right;\n",
       "    }\n",
       "</style>\n",
       "<table border=\"1\" class=\"dataframe\">\n",
       "  <thead>\n",
       "    <tr style=\"text-align: right;\">\n",
       "      <th></th>\n",
       "      <th>Variable</th>\n",
       "      <th>Forced In</th>\n",
       "      <th># Obs</th>\n",
       "      <th># Miss</th>\n",
       "      <th>Intercept</th>\n",
       "      <th>Var Coef</th>\n",
       "      <th>HouseAge Coef</th>\n",
       "      <th>AveRooms Coef</th>\n",
       "      <th>Rsq</th>\n",
       "      <th>Variance Explained</th>\n",
       "      <th>Variance Explained Beyond Forced In</th>\n",
       "      <th>RMSE</th>\n",
       "      <th>MAE</th>\n",
       "    </tr>\n",
       "  </thead>\n",
       "  <tbody>\n",
       "    <tr>\n",
       "      <th>0</th>\n",
       "      <td>None</td>\n",
       "      <td>HouseAge|AveRooms</td>\n",
       "      <td>20640</td>\n",
       "      <td>0</td>\n",
       "      <td>1.2859</td>\n",
       "      <td>0.0000</td>\n",
       "      <td>0.0121</td>\n",
       "      <td>0.0803</td>\n",
       "      <td>0.0401</td>\n",
       "      <td>0.0401</td>\n",
       "      <td>NaN</td>\n",
       "      <td>1.1306</td>\n",
       "      <td>0.8872</td>\n",
       "    </tr>\n",
       "    <tr>\n",
       "      <th>1</th>\n",
       "      <td>MedInc</td>\n",
       "      <td>HouseAge|AveRooms</td>\n",
       "      <td>20640</td>\n",
       "      <td>0</td>\n",
       "      <td>0.0204</td>\n",
       "      <td>0.4428</td>\n",
       "      <td>0.0168</td>\n",
       "      <td>-0.0272</td>\n",
       "      <td>0.5121</td>\n",
       "      <td>0.5121</td>\n",
       "      <td>0.4917</td>\n",
       "      <td>0.8060</td>\n",
       "      <td>0.6000</td>\n",
       "    </tr>\n",
       "    <tr>\n",
       "      <th>2</th>\n",
       "      <td>AveBedrms</td>\n",
       "      <td>HouseAge|AveRooms</td>\n",
       "      <td>20640</td>\n",
       "      <td>0</td>\n",
       "      <td>1.5235</td>\n",
       "      <td>-1.5932</td>\n",
       "      <td>0.0153</td>\n",
       "      <td>0.3415</td>\n",
       "      <td>0.1594</td>\n",
       "      <td>0.1594</td>\n",
       "      <td>0.1243</td>\n",
       "      <td>1.0579</td>\n",
       "      <td>0.8298</td>\n",
       "    </tr>\n",
       "    <tr>\n",
       "      <th>3</th>\n",
       "      <td>Population</td>\n",
       "      <td>HouseAge|AveRooms</td>\n",
       "      <td>20640</td>\n",
       "      <td>0</td>\n",
       "      <td>1.2085</td>\n",
       "      <td>0.0000</td>\n",
       "      <td>0.0130</td>\n",
       "      <td>0.0820</td>\n",
       "      <td>0.0409</td>\n",
       "      <td>0.0409</td>\n",
       "      <td>0.0008</td>\n",
       "      <td>1.1301</td>\n",
       "      <td>0.8865</td>\n",
       "    </tr>\n",
       "    <tr>\n",
       "      <th>4</th>\n",
       "      <td>Log_Population</td>\n",
       "      <td>HouseAge|AveRooms</td>\n",
       "      <td>20640</td>\n",
       "      <td>0</td>\n",
       "      <td>0.7461</td>\n",
       "      <td>0.0690</td>\n",
       "      <td>0.0132</td>\n",
       "      <td>0.0846</td>\n",
       "      <td>0.0419</td>\n",
       "      <td>0.0419</td>\n",
       "      <td>0.0018</td>\n",
       "      <td>1.1295</td>\n",
       "      <td>0.8858</td>\n",
       "    </tr>\n",
       "    <tr>\n",
       "      <th>5</th>\n",
       "      <td>AveOccup</td>\n",
       "      <td>HouseAge|AveRooms</td>\n",
       "      <td>20640</td>\n",
       "      <td>0</td>\n",
       "      <td>1.2937</td>\n",
       "      <td>-0.0027</td>\n",
       "      <td>0.0121</td>\n",
       "      <td>0.0803</td>\n",
       "      <td>0.0407</td>\n",
       "      <td>0.0407</td>\n",
       "      <td>0.0006</td>\n",
       "      <td>1.1302</td>\n",
       "      <td>0.8868</td>\n",
       "    </tr>\n",
       "  </tbody>\n",
       "</table>\n",
       "</div>"
      ],
      "text/plain": [
       "         Variable          Forced In  # Obs  # Miss  Intercept  Var Coef  \\\n",
       "0            None  HouseAge|AveRooms  20640       0     1.2859    0.0000   \n",
       "1          MedInc  HouseAge|AveRooms  20640       0     0.0204    0.4428   \n",
       "2       AveBedrms  HouseAge|AveRooms  20640       0     1.5235   -1.5932   \n",
       "3      Population  HouseAge|AveRooms  20640       0     1.2085    0.0000   \n",
       "4  Log_Population  HouseAge|AveRooms  20640       0     0.7461    0.0690   \n",
       "5        AveOccup  HouseAge|AveRooms  20640       0     1.2937   -0.0027   \n",
       "\n",
       "   HouseAge Coef  AveRooms Coef    Rsq  Variance Explained  \\\n",
       "0         0.0121         0.0803 0.0401              0.0401   \n",
       "1         0.0168        -0.0272 0.5121              0.5121   \n",
       "2         0.0153         0.3415 0.1594              0.1594   \n",
       "3         0.0130         0.0820 0.0409              0.0409   \n",
       "4         0.0132         0.0846 0.0419              0.0419   \n",
       "5         0.0121         0.0803 0.0407              0.0407   \n",
       "\n",
       "   Variance Explained Beyond Forced In   RMSE    MAE  \n",
       "0                                  NaN 1.1306 0.8872  \n",
       "1                               0.4917 0.8060 0.6000  \n",
       "2                               0.1243 1.0579 0.8298  \n",
       "3                               0.0008 1.1301 0.8865  \n",
       "4                               0.0018 1.1295 0.8858  \n",
       "5                               0.0006 1.1302 0.8868  "
      ]
     },
     "execution_count": 9,
     "metadata": {},
     "output_type": "execute_result"
    }
   ],
   "source": [
    "sfa_results"
   ]
  },
  {
   "cell_type": "code",
   "execution_count": 10,
   "id": "271c1b98",
   "metadata": {},
   "outputs": [
    {
     "data": {
      "text/html": [
       "<div>\n",
       "<style scoped>\n",
       "    .dataframe tbody tr th:only-of-type {\n",
       "        vertical-align: middle;\n",
       "    }\n",
       "\n",
       "    .dataframe tbody tr th {\n",
       "        vertical-align: top;\n",
       "    }\n",
       "\n",
       "    .dataframe thead th {\n",
       "        text-align: right;\n",
       "    }\n",
       "</style>\n",
       "<table border=\"1\" class=\"dataframe\">\n",
       "  <thead>\n",
       "    <tr style=\"text-align: right;\">\n",
       "      <th></th>\n",
       "      <th>Actual</th>\n",
       "      <th>ForcedInVars</th>\n",
       "      <th>MedInc</th>\n",
       "      <th>AveBedrms</th>\n",
       "      <th>Population</th>\n",
       "      <th>Log_Population</th>\n",
       "      <th>AveOccup</th>\n",
       "    </tr>\n",
       "  </thead>\n",
       "  <tbody>\n",
       "    <tr>\n",
       "      <th>0</th>\n",
       "      <td>4.5260</td>\n",
       "      <td>2.3431</td>\n",
       "      <td>4.2066</td>\n",
       "      <td>2.9049</td>\n",
       "      <td>2.3227</td>\n",
       "      <td>2.2773</td>\n",
       "      <td>2.3448</td>\n",
       "    </tr>\n",
       "    <tr>\n",
       "      <th>1</th>\n",
       "      <td>3.5850</td>\n",
       "      <td>2.0411</td>\n",
       "      <td>3.8798</td>\n",
       "      <td>2.4267</td>\n",
       "      <td>2.0656</td>\n",
       "      <td>2.0884</td>\n",
       "      <td>2.0435</td>\n",
       "    </tr>\n",
       "    <tr>\n",
       "      <th>2</th>\n",
       "      <td>3.5210</td>\n",
       "      <td>2.5809</td>\n",
       "      <td>3.8834</td>\n",
       "      <td>3.4395</td>\n",
       "      <td>2.5776</td>\n",
       "      <td>2.5629</td>\n",
       "      <td>2.5822</td>\n",
       "    </tr>\n",
       "    <tr>\n",
       "      <th>3</th>\n",
       "      <td>3.4130</td>\n",
       "      <td>2.3825</td>\n",
       "      <td>3.2358</td>\n",
       "      <td>2.5964</td>\n",
       "      <td>2.3769</td>\n",
       "      <td>2.3620</td>\n",
       "      <td>2.3846</td>\n",
       "    </tr>\n",
       "    <tr>\n",
       "      <th>4</th>\n",
       "      <td>3.4220</td>\n",
       "      <td>2.4198</td>\n",
       "      <td>2.4275</td>\n",
       "      <td>2.7423</td>\n",
       "      <td>2.4152</td>\n",
       "      <td>2.4021</td>\n",
       "      <td>2.4229</td>\n",
       "    </tr>\n",
       "  </tbody>\n",
       "</table>\n",
       "</div>"
      ],
      "text/plain": [
       "   Actual  ForcedInVars  MedInc  AveBedrms  Population  Log_Population  \\\n",
       "0  4.5260        2.3431  4.2066     2.9049      2.3227          2.2773   \n",
       "1  3.5850        2.0411  3.8798     2.4267      2.0656          2.0884   \n",
       "2  3.5210        2.5809  3.8834     3.4395      2.5776          2.5629   \n",
       "3  3.4130        2.3825  3.2358     2.5964      2.3769          2.3620   \n",
       "4  3.4220        2.4198  2.4275     2.7423      2.4152          2.4021   \n",
       "\n",
       "   AveOccup  \n",
       "0    2.3448  \n",
       "1    2.0435  \n",
       "2    2.5822  \n",
       "3    2.3846  \n",
       "4    2.4229  "
      ]
     },
     "execution_count": 10,
     "metadata": {},
     "output_type": "execute_result"
    }
   ],
   "source": [
    "sfa_fitted_values.head(5)"
   ]
  },
  {
   "cell_type": "markdown",
   "id": "f9325d60",
   "metadata": {},
   "source": [
    "**View and compare fitted values** \n",
    "\n",
    "We can use a scatter plot to compare the model fit for different regressions. To avoid plotting too many points, we limit the scatter plot to a sample of N data points."
   ]
  },
  {
   "cell_type": "code",
   "execution_count": 11,
   "id": "c41219b8",
   "metadata": {},
   "outputs": [
    {
     "name": "stdout",
     "output_type": "stream",
     "text": [
      "Sampled 1000 out of 20640 observations\n"
     ]
    },
    {
     "data": {
      "image/png": "[encoded data removed]",
      "text/plain": [
       "<Figure size 720x432 with 1 Axes>"
      ]
     },
     "metadata": {
      "needs_background": "light"
     },
     "output_type": "display_data"
    }
   ],
   "source": [
    "fig, ax = model_comparison.scatter_plot_comparison(frame = sfa_fitted_values, \n",
    "                                                   actual = \"Actual\",\n",
    "                                                   predicted = [\"MedInc\", \"AveBedrms\", \"AveOccup\"],\n",
    "                                                   N = 1000, \n",
    "                                                   colormap = ow_colormap(\"ow_full\"),\n",
    "                                                   equalize_axes = False)"
   ]
  },
  {
   "cell_type": "markdown",
   "id": "600c2272",
   "metadata": {},
   "source": [
    "**If the scatterplot is hard to read, we may also generate a binned actual vs. predicted plot.**"
   ]
  },
  {
   "cell_type": "code",
   "execution_count": 12,
   "id": "fa278d0d",
   "metadata": {},
   "outputs": [
    {
     "data": {
      "image/png": "[encoded data removed]",
      "text/plain": [
       "<Figure size 720x432 with 1 Axes>"
      ]
     },
     "metadata": {
      "needs_background": "light"
     },
     "output_type": "display_data"
    }
   ],
   "source": [
    "fig,ax, table = model_comparison.act_vs_pred_comparison(frame = sfa_fitted_values, \n",
    "                                                   actual = \"Actual\",\n",
    "                                                   predicted = [\"MedInc\", \"AveBedrms\", \"AveOccup\"],\n",
    "                                                   colormap = ow_colormap(\"ow_full\"),\n",
    "                                                   equalize_axes = False)"
   ]
  },
  {
   "cell_type": "markdown",
   "id": "6217d7c2",
   "metadata": {},
   "source": [
    "## Wrapper functions for SFA regression for popular model choices"
   ]
  },
  {
   "cell_type": "code",
   "execution_count": 143,
   "id": "02aab1f9",
   "metadata": {},
   "outputs": [
    {
     "data": {
      "text/plain": [
       "<function regression.sklearn_regression_tools.sfa_ols(dataset, DV, IVs, intercept=True, forced_in=None, get_fitted=True)>"
      ]
     },
     "execution_count": 143,
     "metadata": {},
     "output_type": "execute_result"
    }
   ],
   "source": [
    "# OLS regression\n",
    "sklearn_regression_tools.sfa_ols"
   ]
  },
  {
   "cell_type": "code",
   "execution_count": 144,
   "id": "9ac72059",
   "metadata": {},
   "outputs": [
    {
     "data": {
      "text/plain": [
       "<function regression.sklearn_regression_tools.sfa_poisson(dataset, DV, IVs, intercept=True, forced_in=None, get_fitted=True)>"
      ]
     },
     "execution_count": 144,
     "metadata": {},
     "output_type": "execute_result"
    }
   ],
   "source": [
    "# Poisson regression\n",
    "sklearn_regression_tools.sfa_poisson"
   ]
  },
  {
   "cell_type": "markdown",
   "id": "1ba14e6f",
   "metadata": {},
   "source": [
    "# Stepwise and subsets variable selection\n",
    "\n",
    "Here we use methods provided by Sklearn and the more powerful methods provided by the mlextend library.\n",
    "\n",
    "These methods require numerical x-variables. If you have categorical x-variables, you will want to transform them to numerical variables, through e.g. one-hot encoding (0-1 dummies)"
   ]
  },
  {
   "cell_type": "markdown",
   "id": "4f5df2e9",
   "metadata": {},
   "source": [
    "## Using basic functionality provided by Sklearn"
   ]
  },
  {
   "cell_type": "markdown",
   "id": "b00ddf47",
   "metadata": {},
   "source": [
    "Sklearn provides simple feature selection for its linear models here https://scikit-learn.org/stable/modules/feature_selection.html. \n",
    "\n",
    "It provides two methods that are 'stepwise':\n",
    "* Recursive Feature Elimination (RFE): Starts with the full set of variables, and recursively removes the least important variable to arrive at a smaller and smaller feature list.\n",
    "* Sequential Feature Selector: Greedy forward and/or backward procedure to find best feature based on cross-validated score\n",
    "\n",
    "It also provides two methods for selecting a subset variables in one step:\n",
    "* SelectFromModel selects the top models based on an importance metric (such as coefficient, feature importance etc.) and threshold. Use of coefficient may be unreliable due to multicollinearity and lack of feature standardization\n",
    "* SelectKBest selects the top K variables based on univariate relationship. The selected subset of variables can be prone to multicollinearity\n",
    "These two methods are generally not recommended due to their limitations. However, you may want to use their analyses to make your own informed decision for which variables to select"
   ]
  },
  {
   "cell_type": "code",
   "execution_count": 13,
   "id": "20201bd8",
   "metadata": {},
   "outputs": [],
   "source": [
    "from sklearn.feature_selection import RFE, SequentialFeatureSelector, SelectFromModel, SelectKBest\n",
    "from sklearn.preprocessing import StandardScaler"
   ]
  },
  {
   "cell_type": "markdown",
   "id": "1dda8956",
   "metadata": {},
   "source": [
    "**We start by selecting the target and predictive variables, the model class, and number of x-variables to include at the end**\n",
    "\n",
    "The number of variables to include can also be automatically selected for the Sequential Feature Selection method."
   ]
  },
  {
   "cell_type": "code",
   "execution_count": 14,
   "id": "e64d467f",
   "metadata": {},
   "outputs": [],
   "source": [
    "# Specify the key variables\n",
    "target = \"MedHouseVal\"\n",
    "candidate_x = ['MedInc', 'HouseAge', 'AveRooms', 'AveBedrms', 'Population', 'Log_Population', 'AveOccup', 'Latitude', 'Longitude']\n",
    "\n",
    "# Define the model\n",
    "model = linear_model.LinearRegression(fit_intercept=True)\n",
    "\n",
    "# Target variables\n",
    "num_features=4"
   ]
  },
  {
   "cell_type": "markdown",
   "id": "4e73b658",
   "metadata": {},
   "source": [
    "**We remove missing values from the data containing the target variable and candidate X-variables**"
   ]
  },
  {
   "cell_type": "code",
   "execution_count": 15,
   "id": "90418a99",
   "metadata": {},
   "outputs": [
    {
     "name": "stdout",
     "output_type": "stream",
     "text": [
      "Removed 0 rows with missing values, to yield a model dataset of 20640 rows\n"
     ]
    }
   ],
   "source": [
    "# Remove missing values\n",
    "model_dataset = dataset[[target] + candidate_x].dropna()\n",
    "print(\"Removed {} rows with missing values, to yield a model dataset of {} rows\".format(dataset.shape[0] - model_dataset.shape[0], model_dataset.shape[0]))\n",
    "\n",
    "# Split into Y and X datasets\n",
    "Y = model_dataset[target]\n",
    "X = model_dataset[candidate_x]"
   ]
  },
  {
   "cell_type": "markdown",
   "id": "d1bf6664",
   "metadata": {},
   "source": [
    "### Recursive Feature Elimination (RFE) \n",
    "\n",
    "This starts from a model with all relevant variables. Thus the starting model cannot be multicollinear. Furthermore, it is recommended to standardize the X-variables to avoid favoring variables with smaller magnitude/variation.\n",
    "https://scikit-learn.org/stable/modules/generated/sklearn.feature_selection.RFE.html"
   ]
  },
  {
   "cell_type": "code",
   "execution_count": 16,
   "id": "d978c4ea",
   "metadata": {},
   "outputs": [
    {
     "name": "stdout",
     "output_type": "stream",
     "text": [
      "Fitting estimator with 9 features.\n",
      "Fitting estimator with 8 features.\n",
      "Fitting estimator with 7 features.\n",
      "Fitting estimator with 6 features.\n",
      "Fitting estimator with 5 features.\n"
     ]
    }
   ],
   "source": [
    "# Standardize the X dataset\n",
    "scaler = StandardScaler()\n",
    "X_trans = pd.DataFrame(scaler.fit_transform(X.values), index=X.index, columns=X.columns)\n",
    "\n",
    "# Recursive feature elimination\n",
    "selector = RFE(model, n_features_to_select=num_features, step=1, verbose=True)\n",
    "selector = selector.fit(X_trans, Y)"
   ]
  },
  {
   "cell_type": "markdown",
   "id": "4357f42c",
   "metadata": {},
   "source": [
    "**We can get the variables selected**"
   ]
  },
  {
   "cell_type": "code",
   "execution_count": 17,
   "id": "26dee3d2",
   "metadata": {},
   "outputs": [
    {
     "data": {
      "text/plain": [
       "['MedInc', 'AveBedrms', 'Latitude', 'Longitude']"
      ]
     },
     "execution_count": 17,
     "metadata": {},
     "output_type": "execute_result"
    }
   ],
   "source": [
    "selected_x=selector.get_feature_names_out().tolist()\n",
    "selected_x"
   ]
  },
  {
   "cell_type": "markdown",
   "id": "ae52f925",
   "metadata": {},
   "source": [
    "**We can also get the order of variables removed**"
   ]
  },
  {
   "cell_type": "code",
   "execution_count": 18,
   "id": "92ccbc39",
   "metadata": {},
   "outputs": [
    {
     "data": {
      "text/plain": [
       "['Population', 'Log_Population', 'AveOccup', 'HouseAge', 'AveRooms']"
      ]
     },
     "execution_count": 18,
     "metadata": {},
     "output_type": "execute_result"
    }
   ],
   "source": [
    "ranking = selector.ranking_\n",
    "max_rank = max(ranking)\n",
    "removed_variables_in_order = [candidate_x[ranking.tolist().index(x)] for x in reversed(range(2,max_rank+1))]\n",
    "removed_variables_in_order"
   ]
  },
  {
   "cell_type": "markdown",
   "id": "a800c402",
   "metadata": {},
   "source": [
    "**A more advanced version of RFE uses cross-validation called RFECV is available**\n",
    "\n",
    "Read more here: https://scikit-learn.org/stable/modules/generated/sklearn.feature_selection.RFECV.html\n",
    "\n",
    "Example: https://scikit-learn.org/stable/auto_examples/feature_selection/plot_rfe_with_cross_validation.html#sphx-glr-auto-examples-feature-selection-plot-rfe-with-cross-validation-py\n",
    "\n",
    "**At its most basic**"
   ]
  },
  {
   "cell_type": "code",
   "execution_count": 36,
   "id": "6cf6ebd0",
   "metadata": {},
   "outputs": [
    {
     "data": {
      "text/plain": [
       "['MedInc', 'HouseAge', 'AveRooms', 'AveBedrms', 'Latitude', 'Longitude']"
      ]
     },
     "execution_count": 36,
     "metadata": {},
     "output_type": "execute_result"
    }
   ],
   "source": [
    "from sklearn.feature_selection import RFECV\n",
    "step = 1 # Number of variables to remove per step\n",
    "selector = RFECV(model, min_features_to_select = 1, step=step).fit(X_trans, Y)\n",
    "selector.get_feature_names_out().tolist()"
   ]
  },
  {
   "cell_type": "markdown",
   "id": "48daf94e",
   "metadata": {},
   "source": [
    "**Similarly we can get information about variables removed, as well as the cross-validated scores associated with each iteration in the recursive feature elimination**"
   ]
  },
  {
   "cell_type": "code",
   "execution_count": 37,
   "id": "0fe866f5",
   "metadata": {},
   "outputs": [
    {
     "data": {
      "text/plain": [
       "['Population', 'Log_Population', 'AveOccup']"
      ]
     },
     "execution_count": 37,
     "metadata": {},
     "output_type": "execute_result"
    }
   ],
   "source": [
    "# Get variable removed\n",
    "ranking = selector.ranking_\n",
    "max_rank = max(ranking)\n",
    "removed_variables_in_order = [candidate_x[ranking.tolist().index(x)] for x in reversed(range(2,max_rank+1))]\n",
    "removed_variables_in_order"
   ]
  },
  {
   "cell_type": "code",
   "execution_count": 41,
   "id": "ce973bd7",
   "metadata": {},
   "outputs": [
    {
     "data": {
      "text/html": [
       "<div>\n",
       "<style scoped>\n",
       "    .dataframe tbody tr th:only-of-type {\n",
       "        vertical-align: middle;\n",
       "    }\n",
       "\n",
       "    .dataframe tbody tr th {\n",
       "        vertical-align: top;\n",
       "    }\n",
       "\n",
       "    .dataframe thead th {\n",
       "        text-align: right;\n",
       "    }\n",
       "</style>\n",
       "<table border=\"1\" class=\"dataframe\">\n",
       "  <thead>\n",
       "    <tr style=\"text-align: right;\">\n",
       "      <th></th>\n",
       "      <th># Vars</th>\n",
       "      <th>CV score</th>\n",
       "      <th>Best?</th>\n",
       "    </tr>\n",
       "  </thead>\n",
       "  <tbody>\n",
       "    <tr>\n",
       "      <th>0</th>\n",
       "      <td>1</td>\n",
       "      <td>-0.1224</td>\n",
       "      <td>0</td>\n",
       "    </tr>\n",
       "    <tr>\n",
       "      <th>1</th>\n",
       "      <td>2</td>\n",
       "      <td>0.1579</td>\n",
       "      <td>0</td>\n",
       "    </tr>\n",
       "    <tr>\n",
       "      <th>2</th>\n",
       "      <td>3</td>\n",
       "      <td>0.5331</td>\n",
       "      <td>0</td>\n",
       "    </tr>\n",
       "    <tr>\n",
       "      <th>3</th>\n",
       "      <td>4</td>\n",
       "      <td>0.5341</td>\n",
       "      <td>0</td>\n",
       "    </tr>\n",
       "    <tr>\n",
       "      <th>4</th>\n",
       "      <td>5</td>\n",
       "      <td>0.5440</td>\n",
       "      <td>0</td>\n",
       "    </tr>\n",
       "    <tr>\n",
       "      <th>5</th>\n",
       "      <td>6</td>\n",
       "      <td>0.5550</td>\n",
       "      <td>1</td>\n",
       "    </tr>\n",
       "    <tr>\n",
       "      <th>6</th>\n",
       "      <td>7</td>\n",
       "      <td>0.5539</td>\n",
       "      <td>0</td>\n",
       "    </tr>\n",
       "    <tr>\n",
       "      <th>7</th>\n",
       "      <td>8</td>\n",
       "      <td>0.5530</td>\n",
       "      <td>0</td>\n",
       "    </tr>\n",
       "    <tr>\n",
       "      <th>8</th>\n",
       "      <td>9</td>\n",
       "      <td>0.5530</td>\n",
       "      <td>0</td>\n",
       "    </tr>\n",
       "  </tbody>\n",
       "</table>\n",
       "</div>"
      ],
      "text/plain": [
       "   # Vars  CV score  Best?\n",
       "0       1   -0.1224      0\n",
       "1       2    0.1579      0\n",
       "2       3    0.5331      0\n",
       "3       4    0.5341      0\n",
       "4       5    0.5440      0\n",
       "5       6    0.5550      1\n",
       "6       7    0.5539      0\n",
       "7       8    0.5530      0\n",
       "8       9    0.5530      0"
      ]
     },
     "execution_count": 41,
     "metadata": {},
     "output_type": "execute_result"
    }
   ],
   "source": [
    "num_variables = []\n",
    "current_num = X.shape[1]\n",
    "for i in range(len(selector.cv_results_['mean_test_score'])):\n",
    "    num_variables.append(X.shape[1] - current_num + 1)\n",
    "    current_num = current_num - step\n",
    "\n",
    "pd.DataFrame({\n",
    "    \"# Vars\": num_variables,\n",
    "    \"CV score\": selector.cv_results_['mean_test_score'],\n",
    "    \"Best?\": [1 if x == max(selector.cv_results_['mean_test_score']) else 0 for x in selector.cv_results_['mean_test_score'] ]\n",
    "})"
   ]
  },
  {
   "cell_type": "markdown",
   "id": "cbe76f45",
   "metadata": {},
   "source": [
    "**We can also define our own scoring method for the cross-validation**\n",
    "\n",
    "We can create a scorer for Root Mean Square Error. RFE uses the cross-validated score to identify the stopping point for feature elimination, but it still uses the variable coefficient (or importance) to decide which variable to consider removing. This means that we should continue to standardize the x-variables"
   ]
  },
  {
   "cell_type": "code",
   "execution_count": 49,
   "id": "a0a12688",
   "metadata": {},
   "outputs": [
    {
     "data": {
      "text/plain": [
       "['MedInc', 'HouseAge', 'AveRooms', 'AveBedrms', 'Latitude', 'Longitude']"
      ]
     },
     "execution_count": 49,
     "metadata": {},
     "output_type": "execute_result"
    }
   ],
   "source": [
    "from sklearn.metrics import make_scorer, mean_squared_error\n",
    "\n",
    "scorer = make_scorer(score_func = mean_squared_error, greater_is_better=False, squared=False)\n",
    "\n",
    "from sklearn.feature_selection import RFECV\n",
    "step = 1 # Number of variables to remove per step\n",
    "selector = RFECV(model, scoring=scorer, min_features_to_select = 1, step=step).fit(X_trans, Y)\n",
    "selector.get_feature_names_out().tolist()"
   ]
  },
  {
   "cell_type": "code",
   "execution_count": 51,
   "id": "0e50d41a",
   "metadata": {},
   "outputs": [
    {
     "data": {
      "text/plain": [
       "-1"
      ]
     },
     "execution_count": 51,
     "metadata": {},
     "output_type": "execute_result"
    }
   ],
   "source": [
    "RMSE_scorer._sign"
   ]
  },
  {
   "cell_type": "markdown",
   "id": "09f63e03",
   "metadata": {},
   "source": [
    "**To see the scores by number of variables. Since smaller RMSE is better, the test scores have been multiplied -1 to ensure that Greater is better**"
   ]
  },
  {
   "cell_type": "code",
   "execution_count": 52,
   "id": "d74ab9c0",
   "metadata": {},
   "outputs": [
    {
     "data": {
      "text/html": [
       "<div>\n",
       "<style scoped>\n",
       "    .dataframe tbody tr th:only-of-type {\n",
       "        vertical-align: middle;\n",
       "    }\n",
       "\n",
       "    .dataframe tbody tr th {\n",
       "        vertical-align: top;\n",
       "    }\n",
       "\n",
       "    .dataframe thead th {\n",
       "        text-align: right;\n",
       "    }\n",
       "</style>\n",
       "<table border=\"1\" class=\"dataframe\">\n",
       "  <thead>\n",
       "    <tr style=\"text-align: right;\">\n",
       "      <th></th>\n",
       "      <th># Vars</th>\n",
       "      <th>CV score</th>\n",
       "      <th>Best?</th>\n",
       "    </tr>\n",
       "  </thead>\n",
       "  <tbody>\n",
       "    <tr>\n",
       "      <th>0</th>\n",
       "      <td>1</td>\n",
       "      <td>1.1847</td>\n",
       "      <td>0</td>\n",
       "    </tr>\n",
       "    <tr>\n",
       "      <th>1</th>\n",
       "      <td>2</td>\n",
       "      <td>1.0243</td>\n",
       "      <td>0</td>\n",
       "    </tr>\n",
       "    <tr>\n",
       "      <th>2</th>\n",
       "      <td>3</td>\n",
       "      <td>0.7614</td>\n",
       "      <td>0</td>\n",
       "    </tr>\n",
       "    <tr>\n",
       "      <th>3</th>\n",
       "      <td>4</td>\n",
       "      <td>0.7606</td>\n",
       "      <td>0</td>\n",
       "    </tr>\n",
       "    <tr>\n",
       "      <th>4</th>\n",
       "      <td>5</td>\n",
       "      <td>0.7530</td>\n",
       "      <td>0</td>\n",
       "    </tr>\n",
       "    <tr>\n",
       "      <th>5</th>\n",
       "      <td>6</td>\n",
       "      <td>0.7439</td>\n",
       "      <td>1</td>\n",
       "    </tr>\n",
       "    <tr>\n",
       "      <th>6</th>\n",
       "      <td>7</td>\n",
       "      <td>0.7452</td>\n",
       "      <td>0</td>\n",
       "    </tr>\n",
       "    <tr>\n",
       "      <th>7</th>\n",
       "      <td>8</td>\n",
       "      <td>0.7459</td>\n",
       "      <td>0</td>\n",
       "    </tr>\n",
       "    <tr>\n",
       "      <th>8</th>\n",
       "      <td>9</td>\n",
       "      <td>0.7459</td>\n",
       "      <td>0</td>\n",
       "    </tr>\n",
       "  </tbody>\n",
       "</table>\n",
       "</div>"
      ],
      "text/plain": [
       "   # Vars  CV score  Best?\n",
       "0       1    1.1847      0\n",
       "1       2    1.0243      0\n",
       "2       3    0.7614      0\n",
       "3       4    0.7606      0\n",
       "4       5    0.7530      0\n",
       "5       6    0.7439      1\n",
       "6       7    0.7452      0\n",
       "7       8    0.7459      0\n",
       "8       9    0.7459      0"
      ]
     },
     "execution_count": 52,
     "metadata": {},
     "output_type": "execute_result"
    }
   ],
   "source": [
    "num_variables = []\n",
    "current_num = X.shape[1]\n",
    "for i in range(len(selector.cv_results_['mean_test_score'])):\n",
    "    num_variables.append(X.shape[1] - current_num + 1)\n",
    "    current_num = current_num - step\n",
    "\n",
    "pd.DataFrame({\n",
    "    \"# Vars\": num_variables,\n",
    "    \"CV score\": RMSE_scorer._sign * selector.cv_results_['mean_test_score'],\n",
    "    \"Best?\": [1 if x == max(selector.cv_results_['mean_test_score']) else 0 for x in selector.cv_results_['mean_test_score'] ]\n",
    "})"
   ]
  },
  {
   "cell_type": "markdown",
   "id": "e6526beb",
   "metadata": {},
   "source": [
    "**We can also plot the scores**"
   ]
  },
  {
   "cell_type": "code",
   "execution_count": 65,
   "id": "c9d665f6",
   "metadata": {},
   "outputs": [
    {
     "data": {
      "text/plain": [
       "<ErrorbarContainer object of 3 artists>"
      ]
     },
     "execution_count": 65,
     "metadata": {},
     "output_type": "execute_result"
    },
    {
     "data": {
      "image/png": "[encoded data removed]",
      "text/plain": [
       "<Figure size 720x288 with 1 Axes>"
      ]
     },
     "metadata": {
      "needs_background": "light"
     },
     "output_type": "display_data"
    }
   ],
   "source": [
    "fig, ax = plt.subplots(figsize=(10,4))\n",
    "# ax.plot(num_variables, RMSE_scorer._sign * selector.cv_results_['mean_test_score'])\n",
    "ax.errorbar(num_variables, RMSE_scorer._sign * selector.cv_results_['mean_test_score'], \n",
    "            yerr = selector.cv_results_['std_test_score'])"
   ]
  },
  {
   "cell_type": "markdown",
   "id": "24a3e441",
   "metadata": {},
   "source": [
    "### Sequential Feature Selector\n",
    "\n",
    "We can use forward or backward selection using the sequential feature selection method. Backward selection is similar to (but not the same as) RFE, as SFS uses cross-validation score instead of variable coefficient / importance.\n",
    "\n",
    "Read more here: https://scikit-learn.org/stable/modules/feature_selection.html#sequential-feature-selection"
   ]
  },
  {
   "cell_type": "code",
   "execution_count": 86,
   "id": "813d791d",
   "metadata": {},
   "outputs": [],
   "source": [
    "sfs = SequentialFeatureSelector(model, n_features_to_select='auto', direction='forward')\n",
    "sfs = sfs.fit(X_trans, Y)"
   ]
  },
  {
   "cell_type": "markdown",
   "id": "24227135",
   "metadata": {},
   "source": [
    "**We can get the variables selected**"
   ]
  },
  {
   "cell_type": "code",
   "execution_count": 93,
   "id": "c68fcc3a",
   "metadata": {},
   "outputs": [
    {
     "data": {
      "text/plain": [
       "['MedInc', 'HouseAge', 'AveRooms', 'AveBedrms']"
      ]
     },
     "execution_count": 93,
     "metadata": {},
     "output_type": "execute_result"
    }
   ],
   "source": [
    "selected_x = sfs.get_feature_names_out().tolist()\n",
    "selected_x"
   ]
  },
  {
   "cell_type": "markdown",
   "id": "6cd54f49",
   "metadata": {},
   "source": [
    "### SelectFromModel\n",
    "\n",
    "Similar to RFE in that it selects variables from an existing model, however, this does it in one single step, and is therefore more vulnerable to dependencies / multicollinearity between x-variables.\n",
    "\n",
    "If using coefficients to determine importance, it is suggested that you standardize the x-variables. (Standardizing doesn't hurt either for other types of variable importance metrics)\n",
    "\n",
    "Read about the options here: https://scikit-learn.org/stable/modules/generated/sklearn.feature_selection.SelectFromModel.html"
   ]
  },
  {
   "cell_type": "code",
   "execution_count": 90,
   "id": "31ecc904",
   "metadata": {},
   "outputs": [],
   "source": [
    "# Standardize the X dataset\n",
    "scaler = StandardScaler()\n",
    "X_trans = pd.DataFrame(scaler.fit_transform(X.values), index=X.index, columns=X.columns)\n",
    "\n",
    "selector = SelectFromModel(model, threshold=\"mean\", max_features = 5)\n",
    "selector = selector.fit(X_trans, Y)\n"
   ]
  },
  {
   "cell_type": "markdown",
   "id": "6ab061a1",
   "metadata": {},
   "source": [
    "**Selected variables**"
   ]
  },
  {
   "cell_type": "code",
   "execution_count": 94,
   "id": "3aecbca9",
   "metadata": {},
   "outputs": [
    {
     "data": {
      "text/plain": [
       "['MedInc', 'Latitude', 'Longitude']"
      ]
     },
     "execution_count": 94,
     "metadata": {},
     "output_type": "execute_result"
    }
   ],
   "source": [
    "selected_x = selector.get_feature_names_out().tolist()\n",
    "selected_x"
   ]
  },
  {
   "cell_type": "markdown",
   "id": "f2e264d9",
   "metadata": {},
   "source": [
    "### SelectKBest\n",
    "\n",
    "SelectKBest selects the top K variables based on their univariate relationship with the target variable. This doesn't take into account correlations between the x-variables, and may select quite similar variables that don't add much to eachother in a multi-variate model.\n",
    "\n",
    "The SelectKBest requires a scoring function for the univariate relationship. One can build one using e.g. r-squared, or one can use the existing:\n",
    "* F regression suitable for when the relationship is somewhat linear: https://scikit-learn.org/stable/modules/generated/sklearn.feature_selection.f_regression.html#sklearn.feature_selection.f_regression\n",
    "* Mutual information regression: https://scikit-learn.org/stable/modules/generated/sklearn.feature_selection.mutual_info_regression.html#sklearn.feature_selection.mutual_info_regression"
   ]
  },
  {
   "cell_type": "code",
   "execution_count": 99,
   "id": "53478849",
   "metadata": {},
   "outputs": [],
   "source": [
    "from sklearn.feature_selection import f_regression, mutual_info_regression\n",
    "selector = SelectKBest(f_regression, k = 3).fit(X, Y) # Select top 3 features based on f_regression"
   ]
  },
  {
   "cell_type": "markdown",
   "id": "d7349d2c",
   "metadata": {},
   "source": [
    "**Selected variables**"
   ]
  },
  {
   "cell_type": "code",
   "execution_count": 100,
   "id": "eb4aa2d0",
   "metadata": {},
   "outputs": [
    {
     "data": {
      "text/plain": [
       "['MedInc', 'AveRooms', 'Latitude']"
      ]
     },
     "execution_count": 100,
     "metadata": {},
     "output_type": "execute_result"
    }
   ],
   "source": [
    "selected_x = selector.get_feature_names_out().tolist()\n",
    "selected_x"
   ]
  },
  {
   "cell_type": "markdown",
   "id": "48211602",
   "metadata": {},
   "source": [
    "**Custom scoring function**"
   ]
  },
  {
   "cell_type": "code",
   "execution_count": 148,
   "id": "5174cdb6",
   "metadata": {
    "scrolled": true
   },
   "outputs": [],
   "source": [
    "from sklearn.metrics import r2_score\n",
    "\n",
    "def r2_score_generator(model):\n",
    "\n",
    "    def r2_score_func(X, y):\n",
    "        scores = []\n",
    "\n",
    "        for i in range(X.shape[1]):\n",
    "            X_i = X[:,i].reshape(-1,1)\n",
    "            model_i = model.fit(X_i, y)\n",
    "            pred = model_i.predict(X_i)\n",
    "\n",
    "            score_i = r2_score(y, X_i)\n",
    "            scores.append(score_i)\n",
    "            \n",
    "        return np.array(scores)\n",
    "    \n",
    "    return r2_score_func\n",
    "\n",
    "model_choice = linear_model.LinearRegression(fit_intercept=True)\n",
    "custom_selector = SelectKBest(r2_score_generator(model_choice), k = 3).fit(X, Y) # Select top 3 features based on r2 from linear regression"
   ]
  },
  {
   "cell_type": "markdown",
   "id": "a3a7f64f",
   "metadata": {},
   "source": [
    "**Selected variables**"
   ]
  },
  {
   "cell_type": "code",
   "execution_count": 149,
   "id": "dbb63311",
   "metadata": {},
   "outputs": [
    {
     "data": {
      "text/plain": [
       "['MedInc', 'AveRooms', 'Latitude']"
      ]
     },
     "execution_count": 149,
     "metadata": {},
     "output_type": "execute_result"
    }
   ],
   "source": [
    "selected_x = selector.get_feature_names_out().tolist()\n",
    "selected_x"
   ]
  },
  {
   "cell_type": "markdown",
   "id": "a5c2cdc7",
   "metadata": {},
   "source": [
    "## Using mlextend's Stepwise search\n",
    "\n",
    "mlextend augments the sklearn library with additional variable selection techniques and additional information to help select the appropriate model.\n",
    "\n",
    "It uses similar syntax as sklearn. Read more here: http://rasbt.github.io/mlxtend/user_guide/\n",
    "\n",
    "It offers 4 types of stepwise search methods (http://rasbt.github.io/mlxtend/user_guide/feature_selection/SequentialFeatureSelector/): \n",
    "* Sequential Forward Selection (SFS)\n",
    "* Sequential Backward Selection (SBS)\n",
    "* Sequential Forward Floating Selection (SFFS)\n",
    "* Sequential Backward Floating Selection (SBFS)\n",
    "\n",
    "The floating variants, SFFS and SBFS, can be considered as extensions to the simpler SFS and SBS algorithms. The floating algorithms have an additional exclusion or inclusion step to remove features once they were included (or excluded), so that a larger number of feature subset combinations can be sampled. It is important to emphasize that this step is conditional and only occurs if the resulting feature subset is assessed as \"better\" by the criterion function after removal (or addition) of a particular feature. \n",
    "\n",
    "For syntax help, see: http://rasbt.github.io/mlxtend/api_subpackages/mlxtend.feature_selection/#sequentialfeatureselector"
   ]
  },
  {
   "cell_type": "code",
   "execution_count": 66,
   "id": "4e423fc3",
   "metadata": {},
   "outputs": [],
   "source": [
    "from mlxtend.feature_selection import SequentialFeatureSelector as SFS\n",
    "from mlxtend.plotting import plot_sequential_feature_selection as plot_sfs"
   ]
  },
  {
   "cell_type": "markdown",
   "id": "b51da5a1",
   "metadata": {},
   "source": [
    "**Select target, x-variables, and model type**"
   ]
  },
  {
   "cell_type": "code",
   "execution_count": 92,
   "id": "ce3d95b6",
   "metadata": {},
   "outputs": [],
   "source": [
    "# Specify the key variables\n",
    "target = \"MedHouseVal\"\n",
    "candidate_x = ['MedInc', 'HouseAge', 'AveRooms', 'AveBedrms', 'Population', 'Log_Population', 'AveOccup', 'Latitude', 'Longitude']\n",
    "\n",
    "# Define the model\n",
    "model = linear_model.LinearRegression(fit_intercept=True)"
   ]
  },
  {
   "cell_type": "markdown",
   "id": "0ab0c693",
   "metadata": {},
   "source": [
    "### Forward selection\n",
    "\n",
    "Here we have requested the use of r-squared as metric. And we consider up to 6 features."
   ]
  },
  {
   "cell_type": "code",
   "execution_count": 94,
   "id": "6c5e808f",
   "metadata": {},
   "outputs": [],
   "source": [
    "sfs = SFS(model, k_features=6, forward=True, floating=False, scoring='r2', cv=5)\n",
    "sfs = sfs.fit(X, Y)"
   ]
  },
  {
   "cell_type": "markdown",
   "id": "7f7efa6d",
   "metadata": {},
   "source": [
    "**Table with the outcomes at each iteration**\n",
    "\n",
    "cv_scores are r-squared scores associated with the 5 cross-validation folds. The avg_score is the average across the 5 folds. The ci_bound, std_dev, and std_err provide information about the variability across the five folds and are used an uncertainty metrics."
   ]
  },
  {
   "cell_type": "code",
   "execution_count": 101,
   "id": "da4b5bc5",
   "metadata": {},
   "outputs": [
    {
     "data": {
      "text/html": [
       "<div>\n",
       "<style scoped>\n",
       "    .dataframe tbody tr th:only-of-type {\n",
       "        vertical-align: middle;\n",
       "    }\n",
       "\n",
       "    .dataframe tbody tr th {\n",
       "        vertical-align: top;\n",
       "    }\n",
       "\n",
       "    .dataframe thead th {\n",
       "        text-align: right;\n",
       "    }\n",
       "</style>\n",
       "<table border=\"1\" class=\"dataframe\">\n",
       "  <thead>\n",
       "    <tr style=\"text-align: right;\">\n",
       "      <th></th>\n",
       "      <th>feature_idx</th>\n",
       "      <th>cv_scores</th>\n",
       "      <th>avg_score</th>\n",
       "      <th>feature_names</th>\n",
       "      <th>ci_bound</th>\n",
       "      <th>std_dev</th>\n",
       "      <th>std_err</th>\n",
       "    </tr>\n",
       "  </thead>\n",
       "  <tbody>\n",
       "    <tr>\n",
       "      <th>1</th>\n",
       "      <td>(0,)</td>\n",
       "      <td>[0.4645838932053594, 0.35374042999171984, 0.46...</td>\n",
       "      <td>0.4214</td>\n",
       "      <td>(MedInc,)</td>\n",
       "      <td>0.1077</td>\n",
       "      <td>0.0838</td>\n",
       "      <td>0.0419</td>\n",
       "    </tr>\n",
       "    <tr>\n",
       "      <th>2</th>\n",
       "      <td>(0, 1)</td>\n",
       "      <td>[0.47639118662409796, 0.3869912980836958, 0.48...</td>\n",
       "      <td>0.4587</td>\n",
       "      <td>(MedInc, HouseAge)</td>\n",
       "      <td>0.0753</td>\n",
       "      <td>0.0586</td>\n",
       "      <td>0.0293</td>\n",
       "    </tr>\n",
       "    <tr>\n",
       "      <th>3</th>\n",
       "      <td>(0, 1, 2)</td>\n",
       "      <td>[0.4607170006407755, 0.3949188332339916, 0.489...</td>\n",
       "      <td>0.4593</td>\n",
       "      <td>(MedInc, HouseAge, AveRooms)</td>\n",
       "      <td>0.0727</td>\n",
       "      <td>0.0565</td>\n",
       "      <td>0.0283</td>\n",
       "    </tr>\n",
       "    <tr>\n",
       "      <th>4</th>\n",
       "      <td>(0, 1, 2, 3)</td>\n",
       "      <td>[0.5104907198522659, 0.4386801325856957, 0.512...</td>\n",
       "      <td>0.4935</td>\n",
       "      <td>(MedInc, HouseAge, AveRooms, AveBedrms)</td>\n",
       "      <td>0.0546</td>\n",
       "      <td>0.0425</td>\n",
       "      <td>0.0212</td>\n",
       "    </tr>\n",
       "    <tr>\n",
       "      <th>5</th>\n",
       "      <td>(0, 1, 2, 3, 5)</td>\n",
       "      <td>[0.5117442028611139, 0.43935359589897727, 0.50...</td>\n",
       "      <td>0.4933</td>\n",
       "      <td>(MedInc, HouseAge, AveRooms, AveBedrms, Log_Po...</td>\n",
       "      <td>0.0541</td>\n",
       "      <td>0.0421</td>\n",
       "      <td>0.0210</td>\n",
       "    </tr>\n",
       "    <tr>\n",
       "      <th>6</th>\n",
       "      <td>(0, 1, 2, 3, 4, 5)</td>\n",
       "      <td>[0.5111969881347904, 0.4393597575540238, 0.507...</td>\n",
       "      <td>0.4930</td>\n",
       "      <td>(MedInc, HouseAge, AveRooms, AveBedrms, Popula...</td>\n",
       "      <td>0.0538</td>\n",
       "      <td>0.0418</td>\n",
       "      <td>0.0209</td>\n",
       "    </tr>\n",
       "  </tbody>\n",
       "</table>\n",
       "</div>"
      ],
      "text/plain": [
       "          feature_idx                                          cv_scores  \\\n",
       "1                (0,)  [0.4645838932053594, 0.35374042999171984, 0.46...   \n",
       "2              (0, 1)  [0.47639118662409796, 0.3869912980836958, 0.48...   \n",
       "3           (0, 1, 2)  [0.4607170006407755, 0.3949188332339916, 0.489...   \n",
       "4        (0, 1, 2, 3)  [0.5104907198522659, 0.4386801325856957, 0.512...   \n",
       "5     (0, 1, 2, 3, 5)  [0.5117442028611139, 0.43935359589897727, 0.50...   \n",
       "6  (0, 1, 2, 3, 4, 5)  [0.5111969881347904, 0.4393597575540238, 0.507...   \n",
       "\n",
       "  avg_score                                      feature_names ci_bound  \\\n",
       "1    0.4214                                          (MedInc,)   0.1077   \n",
       "2    0.4587                                 (MedInc, HouseAge)   0.0753   \n",
       "3    0.4593                       (MedInc, HouseAge, AveRooms)   0.0727   \n",
       "4    0.4935            (MedInc, HouseAge, AveRooms, AveBedrms)   0.0546   \n",
       "5    0.4933  (MedInc, HouseAge, AveRooms, AveBedrms, Log_Po...   0.0541   \n",
       "6    0.4930  (MedInc, HouseAge, AveRooms, AveBedrms, Popula...   0.0538   \n",
       "\n",
       "  std_dev std_err  \n",
       "1  0.0838  0.0419  \n",
       "2  0.0586  0.0293  \n",
       "3  0.0565  0.0283  \n",
       "4  0.0425  0.0212  \n",
       "5  0.0421  0.0210  \n",
       "6  0.0418  0.0209  "
      ]
     },
     "execution_count": 101,
     "metadata": {},
     "output_type": "execute_result"
    }
   ],
   "source": [
    "pd.DataFrame.from_dict(sfs.get_metric_dict()).T"
   ]
  },
  {
   "cell_type": "markdown",
   "id": "42e033b3",
   "metadata": {},
   "source": [
    "**Plot of the score at each iteration**\n",
    "\n",
    "We can get a visual view of the performance, by plotting the average score with the standard errors."
   ]
  },
  {
   "cell_type": "code",
   "execution_count": 96,
   "id": "f5c4eb96",
   "metadata": {},
   "outputs": [
    {
     "data": {
      "image/png": "[encoded data removed]",
      "text/plain": [
       "<Figure size 432x288 with 1 Axes>"
      ]
     },
     "metadata": {
      "needs_background": "light"
     },
     "output_type": "display_data"
    }
   ],
   "source": [
    "fig = plot_sfs(sfs.get_metric_dict(), kind='std_err')"
   ]
  },
  {
   "cell_type": "markdown",
   "id": "de9619f7",
   "metadata": {},
   "source": [
    "**In this case, it may be sufficient to use 4 features, namely**"
   ]
  },
  {
   "cell_type": "code",
   "execution_count": 108,
   "id": "e940b418",
   "metadata": {},
   "outputs": [
    {
     "data": {
      "text/plain": [
       "['MedInc', 'HouseAge', 'AveRooms', 'AveBedrms']"
      ]
     },
     "execution_count": 108,
     "metadata": {},
     "output_type": "execute_result"
    }
   ],
   "source": [
    "list(sfs.subsets_[4]['feature_names'])"
   ]
  },
  {
   "cell_type": "markdown",
   "id": "9dab68bb",
   "metadata": {},
   "source": [
    "### Backward selection (with floating algorithm)\n",
    "\n",
    "Regular backward selection is achieved by changing the argument 'forward' to False. \n",
    "\n",
    "By setting the argument 'floating' to True, we get a more advanced version. The floating algorithms have an additional exclusion or inclusion step to remove features once they were included (or excluded), so that a larger number of feature subset combinations can be sampled.\n",
    "\n",
    "**Note: With backward selection in general, the model starts with all candidate variables, so make sure to avoid multicollinear combinations**\n",
    "\n",
    "Here, we consider down to 2 features."
   ]
  },
  {
   "cell_type": "code",
   "execution_count": 112,
   "id": "228f6e96",
   "metadata": {},
   "outputs": [],
   "source": [
    "sfs = SFS(model, k_features=2, forward=False, floating=True, scoring='r2', cv=5)\n",
    "sfs = sfs.fit(X, Y)"
   ]
  },
  {
   "cell_type": "code",
   "execution_count": 113,
   "id": "e99b98da",
   "metadata": {},
   "outputs": [
    {
     "data": {
      "text/html": [
       "<div>\n",
       "<style scoped>\n",
       "    .dataframe tbody tr th:only-of-type {\n",
       "        vertical-align: middle;\n",
       "    }\n",
       "\n",
       "    .dataframe tbody tr th {\n",
       "        vertical-align: top;\n",
       "    }\n",
       "\n",
       "    .dataframe thead th {\n",
       "        text-align: right;\n",
       "    }\n",
       "</style>\n",
       "<table border=\"1\" class=\"dataframe\">\n",
       "  <thead>\n",
       "    <tr style=\"text-align: right;\">\n",
       "      <th></th>\n",
       "      <th>feature_idx</th>\n",
       "      <th>cv_scores</th>\n",
       "      <th>avg_score</th>\n",
       "      <th>feature_names</th>\n",
       "      <th>ci_bound</th>\n",
       "      <th>std_dev</th>\n",
       "      <th>std_err</th>\n",
       "    </tr>\n",
       "  </thead>\n",
       "  <tbody>\n",
       "    <tr>\n",
       "      <th>9</th>\n",
       "      <td>(0, 1, 2, 3, 4, 5, 6, 7, 8)</td>\n",
       "      <td>[0.5486201869729368, 0.4681827151487459, 0.550...</td>\n",
       "      <td>0.5530</td>\n",
       "      <td>(MedInc, HouseAge, AveRooms, AveBedrms, Popula...</td>\n",
       "      <td>0.0793</td>\n",
       "      <td>0.0617</td>\n",
       "      <td>0.0308</td>\n",
       "    </tr>\n",
       "    <tr>\n",
       "      <th>8</th>\n",
       "      <td>(0, 1, 2, 3, 4, 5, 7, 8)</td>\n",
       "      <td>[0.5488514825927339, 0.4663171525534776, 0.550...</td>\n",
       "      <td>0.5540</td>\n",
       "      <td>(MedInc, HouseAge, AveRooms, AveBedrms, Popula...</td>\n",
       "      <td>0.0842</td>\n",
       "      <td>0.0655</td>\n",
       "      <td>0.0327</td>\n",
       "    </tr>\n",
       "    <tr>\n",
       "      <th>7</th>\n",
       "      <td>(0, 1, 2, 3, 5, 7, 8)</td>\n",
       "      <td>[0.5488625960697957, 0.46635760867448006, 0.55...</td>\n",
       "      <td>0.5542</td>\n",
       "      <td>(MedInc, HouseAge, AveRooms, AveBedrms, Log_Po...</td>\n",
       "      <td>0.0842</td>\n",
       "      <td>0.0655</td>\n",
       "      <td>0.0328</td>\n",
       "    </tr>\n",
       "    <tr>\n",
       "      <th>6</th>\n",
       "      <td>(0, 1, 2, 3, 7, 8)</td>\n",
       "      <td>[0.5493568906402934, 0.4669622904089422, 0.551...</td>\n",
       "      <td>0.5550</td>\n",
       "      <td>(MedInc, HouseAge, AveRooms, AveBedrms, Latitu...</td>\n",
       "      <td>0.0839</td>\n",
       "      <td>0.0653</td>\n",
       "      <td>0.0326</td>\n",
       "    </tr>\n",
       "    <tr>\n",
       "      <th>5</th>\n",
       "      <td>(0, 1, 3, 7, 8)</td>\n",
       "      <td>[0.5416438941618367, 0.4504388635263684, 0.548...</td>\n",
       "      <td>0.5458</td>\n",
       "      <td>(MedInc, HouseAge, AveBedrms, Latitude, Longit...</td>\n",
       "      <td>0.0920</td>\n",
       "      <td>0.0716</td>\n",
       "      <td>0.0358</td>\n",
       "    </tr>\n",
       "    <tr>\n",
       "      <th>4</th>\n",
       "      <td>(0, 1, 7, 8)</td>\n",
       "      <td>[0.5562912113500209, 0.4477867834639666, 0.538...</td>\n",
       "      <td>0.5448</td>\n",
       "      <td>(MedInc, HouseAge, Latitude, Longitude)</td>\n",
       "      <td>0.0938</td>\n",
       "      <td>0.0730</td>\n",
       "      <td>0.0365</td>\n",
       "    </tr>\n",
       "    <tr>\n",
       "      <th>3</th>\n",
       "      <td>(0, 7, 8)</td>\n",
       "      <td>[0.568995045996352, 0.43087935360134355, 0.534...</td>\n",
       "      <td>0.5331</td>\n",
       "      <td>(MedInc, Latitude, Longitude)</td>\n",
       "      <td>0.1009</td>\n",
       "      <td>0.0785</td>\n",
       "      <td>0.0393</td>\n",
       "    </tr>\n",
       "    <tr>\n",
       "      <th>2</th>\n",
       "      <td>(0, 7)</td>\n",
       "      <td>[0.4985834349824716, 0.38500079639128015, 0.47...</td>\n",
       "      <td>0.4200</td>\n",
       "      <td>(MedInc, Latitude)</td>\n",
       "      <td>0.1430</td>\n",
       "      <td>0.1112</td>\n",
       "      <td>0.0556</td>\n",
       "    </tr>\n",
       "  </tbody>\n",
       "</table>\n",
       "</div>"
      ],
      "text/plain": [
       "                   feature_idx  \\\n",
       "9  (0, 1, 2, 3, 4, 5, 6, 7, 8)   \n",
       "8     (0, 1, 2, 3, 4, 5, 7, 8)   \n",
       "7        (0, 1, 2, 3, 5, 7, 8)   \n",
       "6           (0, 1, 2, 3, 7, 8)   \n",
       "5              (0, 1, 3, 7, 8)   \n",
       "4                 (0, 1, 7, 8)   \n",
       "3                    (0, 7, 8)   \n",
       "2                       (0, 7)   \n",
       "\n",
       "                                           cv_scores avg_score  \\\n",
       "9  [0.5486201869729368, 0.4681827151487459, 0.550...    0.5530   \n",
       "8  [0.5488514825927339, 0.4663171525534776, 0.550...    0.5540   \n",
       "7  [0.5488625960697957, 0.46635760867448006, 0.55...    0.5542   \n",
       "6  [0.5493568906402934, 0.4669622904089422, 0.551...    0.5550   \n",
       "5  [0.5416438941618367, 0.4504388635263684, 0.548...    0.5458   \n",
       "4  [0.5562912113500209, 0.4477867834639666, 0.538...    0.5448   \n",
       "3  [0.568995045996352, 0.43087935360134355, 0.534...    0.5331   \n",
       "2  [0.4985834349824716, 0.38500079639128015, 0.47...    0.4200   \n",
       "\n",
       "                                       feature_names ci_bound std_dev std_err  \n",
       "9  (MedInc, HouseAge, AveRooms, AveBedrms, Popula...   0.0793  0.0617  0.0308  \n",
       "8  (MedInc, HouseAge, AveRooms, AveBedrms, Popula...   0.0842  0.0655  0.0327  \n",
       "7  (MedInc, HouseAge, AveRooms, AveBedrms, Log_Po...   0.0842  0.0655  0.0328  \n",
       "6  (MedInc, HouseAge, AveRooms, AveBedrms, Latitu...   0.0839  0.0653  0.0326  \n",
       "5  (MedInc, HouseAge, AveBedrms, Latitude, Longit...   0.0920  0.0716  0.0358  \n",
       "4            (MedInc, HouseAge, Latitude, Longitude)   0.0938  0.0730  0.0365  \n",
       "3                      (MedInc, Latitude, Longitude)   0.1009  0.0785  0.0393  \n",
       "2                                 (MedInc, Latitude)   0.1430  0.1112  0.0556  "
      ]
     },
     "execution_count": 113,
     "metadata": {},
     "output_type": "execute_result"
    }
   ],
   "source": [
    "pd.DataFrame.from_dict(sfs.get_metric_dict()).T"
   ]
  },
  {
   "cell_type": "code",
   "execution_count": 114,
   "id": "a4181b6f",
   "metadata": {},
   "outputs": [
    {
     "data": {
      "image/png": "[encoded data removed]",
      "text/plain": [
       "<Figure size 432x288 with 1 Axes>"
      ]
     },
     "metadata": {
      "needs_background": "light"
     },
     "output_type": "display_data"
    }
   ],
   "source": [
    "fig = plot_sfs(sfs.get_metric_dict(), kind='std_err')"
   ]
  },
  {
   "cell_type": "code",
   "execution_count": 116,
   "id": "06022587",
   "metadata": {},
   "outputs": [
    {
     "data": {
      "text/plain": [
       "['MedInc', 'Latitude', 'Longitude']"
      ]
     },
     "execution_count": 116,
     "metadata": {},
     "output_type": "execute_result"
    }
   ],
   "source": [
    "list(sfs.subsets_[3]['feature_names'])"
   ]
  },
  {
   "cell_type": "markdown",
   "id": "ed19d571",
   "metadata": {},
   "source": [
    "### Additional capabilities of mlextend's sequential search"
   ]
  },
  {
   "cell_type": "markdown",
   "id": "361cce68",
   "metadata": {},
   "source": [
    "**We can force in specific variables into the model, so they are always selected by using the 'fixed_features' argument**\n",
    "\n",
    "fixed_features are provided as a tuple. For example, if fixed_features=(1, 3, 7), the 2nd, 4th, and 8th feature are guaranteed to be present in the solution. It is important that k_features is greater than the number of fixed features."
   ]
  },
  {
   "cell_type": "code",
   "execution_count": 121,
   "id": "a60125df",
   "metadata": {},
   "outputs": [
    {
     "data": {
      "text/plain": [
       "(0, 3)"
      ]
     },
     "execution_count": 121,
     "metadata": {},
     "output_type": "execute_result"
    }
   ],
   "source": [
    "# We can easily convert a list of features into a tuple\n",
    "forced_in_features = ['MedInc', 'AveBedrms']\n",
    "forced_in_tuple = tuple([X.columns.tolist().index(x) for x in forced_in_features])\n",
    "forced_in_tuple"
   ]
  },
  {
   "cell_type": "code",
   "execution_count": 124,
   "id": "1831c005",
   "metadata": {},
   "outputs": [
    {
     "data": {
      "text/html": [
       "<div>\n",
       "<style scoped>\n",
       "    .dataframe tbody tr th:only-of-type {\n",
       "        vertical-align: middle;\n",
       "    }\n",
       "\n",
       "    .dataframe tbody tr th {\n",
       "        vertical-align: top;\n",
       "    }\n",
       "\n",
       "    .dataframe thead th {\n",
       "        text-align: right;\n",
       "    }\n",
       "</style>\n",
       "<table border=\"1\" class=\"dataframe\">\n",
       "  <thead>\n",
       "    <tr style=\"text-align: right;\">\n",
       "      <th></th>\n",
       "      <th>feature_idx</th>\n",
       "      <th>cv_scores</th>\n",
       "      <th>avg_score</th>\n",
       "      <th>feature_names</th>\n",
       "      <th>ci_bound</th>\n",
       "      <th>std_dev</th>\n",
       "      <th>std_err</th>\n",
       "    </tr>\n",
       "  </thead>\n",
       "  <tbody>\n",
       "    <tr>\n",
       "      <th>2</th>\n",
       "      <td>(0, 3)</td>\n",
       "      <td>[0.4639729499206273, 0.35381496074528473, 0.46...</td>\n",
       "      <td>0.4213</td>\n",
       "      <td>(MedInc, AveBedrms)</td>\n",
       "      <td>0.1077</td>\n",
       "      <td>0.0838</td>\n",
       "      <td>0.0419</td>\n",
       "    </tr>\n",
       "    <tr>\n",
       "      <th>3</th>\n",
       "      <td>(0, 2, 3)</td>\n",
       "      <td>[0.49229523447766665, 0.4238389370072473, 0.49...</td>\n",
       "      <td>0.4646</td>\n",
       "      <td>(MedInc, AveRooms, AveBedrms)</td>\n",
       "      <td>0.0778</td>\n",
       "      <td>0.0606</td>\n",
       "      <td>0.0303</td>\n",
       "    </tr>\n",
       "    <tr>\n",
       "      <th>4</th>\n",
       "      <td>(0, 1, 2, 3)</td>\n",
       "      <td>[0.5104907198522659, 0.4386801325856957, 0.512...</td>\n",
       "      <td>0.4935</td>\n",
       "      <td>(MedInc, HouseAge, AveRooms, AveBedrms)</td>\n",
       "      <td>0.0546</td>\n",
       "      <td>0.0425</td>\n",
       "      <td>0.0212</td>\n",
       "    </tr>\n",
       "    <tr>\n",
       "      <th>5</th>\n",
       "      <td>(0, 1, 2, 3, 5)</td>\n",
       "      <td>[0.5117442028611139, 0.43935359589897727, 0.50...</td>\n",
       "      <td>0.4933</td>\n",
       "      <td>(MedInc, HouseAge, AveRooms, AveBedrms, Log_Po...</td>\n",
       "      <td>0.0541</td>\n",
       "      <td>0.0421</td>\n",
       "      <td>0.0210</td>\n",
       "    </tr>\n",
       "  </tbody>\n",
       "</table>\n",
       "</div>"
      ],
      "text/plain": [
       "       feature_idx                                          cv_scores  \\\n",
       "2           (0, 3)  [0.4639729499206273, 0.35381496074528473, 0.46...   \n",
       "3        (0, 2, 3)  [0.49229523447766665, 0.4238389370072473, 0.49...   \n",
       "4     (0, 1, 2, 3)  [0.5104907198522659, 0.4386801325856957, 0.512...   \n",
       "5  (0, 1, 2, 3, 5)  [0.5117442028611139, 0.43935359589897727, 0.50...   \n",
       "\n",
       "  avg_score                                      feature_names ci_bound  \\\n",
       "2    0.4213                                (MedInc, AveBedrms)   0.1077   \n",
       "3    0.4646                      (MedInc, AveRooms, AveBedrms)   0.0778   \n",
       "4    0.4935            (MedInc, HouseAge, AveRooms, AveBedrms)   0.0546   \n",
       "5    0.4933  (MedInc, HouseAge, AveRooms, AveBedrms, Log_Po...   0.0541   \n",
       "\n",
       "  std_dev std_err  \n",
       "2  0.0838  0.0419  \n",
       "3  0.0606  0.0303  \n",
       "4  0.0425  0.0212  \n",
       "5  0.0421  0.0210  "
      ]
     },
     "execution_count": 124,
     "metadata": {},
     "output_type": "execute_result"
    }
   ],
   "source": [
    "sfs = SFS(model, k_features=5, forward=True, floating=True, scoring='r2', cv=5, fixed_features=forced_in_tuple)\n",
    "sfs = sfs.fit(X, Y)\n",
    "pd.DataFrame.from_dict(sfs.get_metric_dict()).T"
   ]
  },
  {
   "cell_type": "markdown",
   "id": "88033975",
   "metadata": {},
   "source": [
    "**We can also ask the algorithm to automatically pick the best model or a parsimonious model**\n",
    "\n",
    "If \"best\" is provided, the feature selector will return the feature subset with the best cross-validation performance. \n",
    "\n",
    "If \"parsimonious\" is provided as an argument, the smallest feature subset that is within one standard error of the cross-validation performance will be selected."
   ]
  },
  {
   "cell_type": "code",
   "execution_count": 134,
   "id": "696169cd",
   "metadata": {},
   "outputs": [
    {
     "data": {
      "text/plain": [
       "('MedInc', 'HouseAge', 'AveRooms', 'AveBedrms', 'Latitude', 'Longitude')"
      ]
     },
     "execution_count": 134,
     "metadata": {},
     "output_type": "execute_result"
    }
   ],
   "source": [
    "sfs = SFS(model, k_features='best', forward=False, floating=False, scoring='r2', cv=5)\n",
    "sfs = sfs.fit(X, Y)\n",
    "sfs.k_feature_names_"
   ]
  },
  {
   "cell_type": "code",
   "execution_count": 135,
   "id": "c73be945",
   "metadata": {},
   "outputs": [
    {
     "data": {
      "text/plain": [
       "('MedInc', 'Latitude', 'Longitude')"
      ]
     },
     "execution_count": 135,
     "metadata": {},
     "output_type": "execute_result"
    }
   ],
   "source": [
    "sfs = SFS(model, k_features='parsimonious', forward=False, floating=False, scoring='r2', cv=5)\n",
    "sfs = sfs.fit(X, Y)\n",
    "sfs.k_feature_names_"
   ]
  },
  {
   "cell_type": "markdown",
   "id": "29778537",
   "metadata": {},
   "source": [
    "## Using mlextend's Exhaustive search (all combinations)\n",
    "\n",
    "Exhaustive search considers all possible combinations of independent variables up to a specific size (number of variables in the model). This is feasible if there is a relatively small number of candidate variables and/or you are looking for small sets of variables in any given model. \n",
    "\n",
    "Syntax for this is at: http://rasbt.github.io/mlxtend/api_subpackages/mlxtend.feature_selection/#exhaustivefeatureselector"
   ]
  },
  {
   "cell_type": "code",
   "execution_count": 138,
   "id": "99d8f5e6",
   "metadata": {},
   "outputs": [
    {
     "name": "stderr",
     "output_type": "stream",
     "text": [
      "Features: 246/246"
     ]
    }
   ],
   "source": [
    "from mlxtend.feature_selection import ExhaustiveFeatureSelector as EFS\n",
    "\n",
    "sfs = EFS(model, min_features=2, max_features=4, print_progress=True, scoring='r2', cv=5)\n",
    "sfs = sfs.fit(X, Y)"
   ]
  },
  {
   "cell_type": "markdown",
   "id": "9a6b836e",
   "metadata": {},
   "source": [
    "**We can sort the outputs by average score, and create a column indicating the number of variables**"
   ]
  },
  {
   "cell_type": "code",
   "execution_count": 141,
   "id": "85e76428",
   "metadata": {},
   "outputs": [
    {
     "data": {
      "text/html": [
       "<div>\n",
       "<style scoped>\n",
       "    .dataframe tbody tr th:only-of-type {\n",
       "        vertical-align: middle;\n",
       "    }\n",
       "\n",
       "    .dataframe tbody tr th {\n",
       "        vertical-align: top;\n",
       "    }\n",
       "\n",
       "    .dataframe thead th {\n",
       "        text-align: right;\n",
       "    }\n",
       "</style>\n",
       "<table border=\"1\" class=\"dataframe\">\n",
       "  <thead>\n",
       "    <tr style=\"text-align: right;\">\n",
       "      <th></th>\n",
       "      <th>feature_idx</th>\n",
       "      <th>cv_scores</th>\n",
       "      <th>avg_score</th>\n",
       "      <th>feature_names</th>\n",
       "      <th>ci_bound</th>\n",
       "      <th>std_dev</th>\n",
       "      <th>std_err</th>\n",
       "      <th>num_vars</th>\n",
       "    </tr>\n",
       "  </thead>\n",
       "  <tbody>\n",
       "    <tr>\n",
       "      <th>140</th>\n",
       "      <td>(0, 1, 7, 8)</td>\n",
       "      <td>[0.5562912113500209, 0.4477867834639666, 0.538...</td>\n",
       "      <td>0.5448</td>\n",
       "      <td>(MedInc, HouseAge, Latitude, Longitude)</td>\n",
       "      <td>0.0938</td>\n",
       "      <td>0.0730</td>\n",
       "      <td>0.0365</td>\n",
       "      <td>4</td>\n",
       "    </tr>\n",
       "    <tr>\n",
       "      <th>165</th>\n",
       "      <td>(0, 3, 7, 8)</td>\n",
       "      <td>[0.5598118858963068, 0.43224118447544746, 0.54...</td>\n",
       "      <td>0.5341</td>\n",
       "      <td>(MedInc, AveBedrms, Latitude, Longitude)</td>\n",
       "      <td>0.0980</td>\n",
       "      <td>0.0762</td>\n",
       "      <td>0.0381</td>\n",
       "      <td>4</td>\n",
       "    </tr>\n",
       "    <tr>\n",
       "      <th>174</th>\n",
       "      <td>(0, 5, 7, 8)</td>\n",
       "      <td>[0.5634955647051503, 0.42934226445383483, 0.54...</td>\n",
       "      <td>0.5339</td>\n",
       "      <td>(MedInc, Log_Population, Latitude, Longitude)</td>\n",
       "      <td>0.1011</td>\n",
       "      <td>0.0787</td>\n",
       "      <td>0.0393</td>\n",
       "      <td>4</td>\n",
       "    </tr>\n",
       "    <tr>\n",
       "      <th>171</th>\n",
       "      <td>(0, 4, 7, 8)</td>\n",
       "      <td>[0.5639702398124992, 0.42972247905832817, 0.53...</td>\n",
       "      <td>0.5336</td>\n",
       "      <td>(MedInc, Population, Latitude, Longitude)</td>\n",
       "      <td>0.1012</td>\n",
       "      <td>0.0787</td>\n",
       "      <td>0.0394</td>\n",
       "      <td>4</td>\n",
       "    </tr>\n",
       "    <tr>\n",
       "      <th>63</th>\n",
       "      <td>(0, 7, 8)</td>\n",
       "      <td>[0.5689950459963611, 0.4308793536013449, 0.534...</td>\n",
       "      <td>0.5331</td>\n",
       "      <td>(MedInc, Latitude, Longitude)</td>\n",
       "      <td>0.1009</td>\n",
       "      <td>0.0785</td>\n",
       "      <td>0.0393</td>\n",
       "      <td>3</td>\n",
       "    </tr>\n",
       "    <tr>\n",
       "      <th>...</th>\n",
       "      <td>...</td>\n",
       "      <td>...</td>\n",
       "      <td>...</td>\n",
       "      <td>...</td>\n",
       "      <td>...</td>\n",
       "      <td>...</td>\n",
       "      <td>...</td>\n",
       "      <td>...</td>\n",
       "    </tr>\n",
       "    <tr>\n",
       "      <th>235</th>\n",
       "      <td>(3, 4, 6, 8)</td>\n",
       "      <td>[-0.32025281258465954, -0.04045538908653268, -...</td>\n",
       "      <td>-0.1341</td>\n",
       "      <td>(AveBedrms, Population, AveOccup, Longitude)</td>\n",
       "      <td>0.1256</td>\n",
       "      <td>0.0977</td>\n",
       "      <td>0.0489</td>\n",
       "      <td>4</td>\n",
       "    </tr>\n",
       "    <tr>\n",
       "      <th>114</th>\n",
       "      <td>(4, 6, 8)</td>\n",
       "      <td>[-0.31083863946182344, -0.043584402686428714, ...</td>\n",
       "      <td>-0.1351</td>\n",
       "      <td>(Population, AveOccup, Longitude)</td>\n",
       "      <td>0.1194</td>\n",
       "      <td>0.0929</td>\n",
       "      <td>0.0464</td>\n",
       "      <td>3</td>\n",
       "    </tr>\n",
       "    <tr>\n",
       "      <th>238</th>\n",
       "      <td>(3, 5, 6, 8)</td>\n",
       "      <td>[-0.3263719121230779, -0.04073409248261095, -0...</td>\n",
       "      <td>-0.1353</td>\n",
       "      <td>(AveBedrms, Log_Population, AveOccup, Longitude)</td>\n",
       "      <td>0.1285</td>\n",
       "      <td>0.1000</td>\n",
       "      <td>0.0500</td>\n",
       "      <td>4</td>\n",
       "    </tr>\n",
       "    <tr>\n",
       "      <th>117</th>\n",
       "      <td>(5, 6, 8)</td>\n",
       "      <td>[-0.31378693988596895, -0.045190892336411714, ...</td>\n",
       "      <td>-0.1361</td>\n",
       "      <td>(Log_Population, AveOccup, Longitude)</td>\n",
       "      <td>0.1203</td>\n",
       "      <td>0.0936</td>\n",
       "      <td>0.0468</td>\n",
       "      <td>3</td>\n",
       "    </tr>\n",
       "    <tr>\n",
       "      <th>242</th>\n",
       "      <td>(4, 5, 6, 8)</td>\n",
       "      <td>[-0.31504398617367624, -0.04535584394981074, -...</td>\n",
       "      <td>-0.1363</td>\n",
       "      <td>(Population, Log_Population, AveOccup, Longitude)</td>\n",
       "      <td>0.1209</td>\n",
       "      <td>0.0941</td>\n",
       "      <td>0.0470</td>\n",
       "      <td>4</td>\n",
       "    </tr>\n",
       "  </tbody>\n",
       "</table>\n",
       "<p>246 rows × 8 columns</p>\n",
       "</div>"
      ],
      "text/plain": [
       "      feature_idx                                          cv_scores  \\\n",
       "140  (0, 1, 7, 8)  [0.5562912113500209, 0.4477867834639666, 0.538...   \n",
       "165  (0, 3, 7, 8)  [0.5598118858963068, 0.43224118447544746, 0.54...   \n",
       "174  (0, 5, 7, 8)  [0.5634955647051503, 0.42934226445383483, 0.54...   \n",
       "171  (0, 4, 7, 8)  [0.5639702398124992, 0.42972247905832817, 0.53...   \n",
       "63      (0, 7, 8)  [0.5689950459963611, 0.4308793536013449, 0.534...   \n",
       "..            ...                                                ...   \n",
       "235  (3, 4, 6, 8)  [-0.32025281258465954, -0.04045538908653268, -...   \n",
       "114     (4, 6, 8)  [-0.31083863946182344, -0.043584402686428714, ...   \n",
       "238  (3, 5, 6, 8)  [-0.3263719121230779, -0.04073409248261095, -0...   \n",
       "117     (5, 6, 8)  [-0.31378693988596895, -0.045190892336411714, ...   \n",
       "242  (4, 5, 6, 8)  [-0.31504398617367624, -0.04535584394981074, -...   \n",
       "\n",
       "    avg_score                                      feature_names ci_bound  \\\n",
       "140    0.5448            (MedInc, HouseAge, Latitude, Longitude)   0.0938   \n",
       "165    0.5341           (MedInc, AveBedrms, Latitude, Longitude)   0.0980   \n",
       "174    0.5339      (MedInc, Log_Population, Latitude, Longitude)   0.1011   \n",
       "171    0.5336          (MedInc, Population, Latitude, Longitude)   0.1012   \n",
       "63     0.5331                      (MedInc, Latitude, Longitude)   0.1009   \n",
       "..        ...                                                ...      ...   \n",
       "235   -0.1341       (AveBedrms, Population, AveOccup, Longitude)   0.1256   \n",
       "114   -0.1351                  (Population, AveOccup, Longitude)   0.1194   \n",
       "238   -0.1353   (AveBedrms, Log_Population, AveOccup, Longitude)   0.1285   \n",
       "117   -0.1361              (Log_Population, AveOccup, Longitude)   0.1203   \n",
       "242   -0.1363  (Population, Log_Population, AveOccup, Longitude)   0.1209   \n",
       "\n",
       "    std_dev std_err  num_vars  \n",
       "140  0.0730  0.0365         4  \n",
       "165  0.0762  0.0381         4  \n",
       "174  0.0787  0.0393         4  \n",
       "171  0.0787  0.0394         4  \n",
       "63   0.0785  0.0393         3  \n",
       "..      ...     ...       ...  \n",
       "235  0.0977  0.0489         4  \n",
       "114  0.0929  0.0464         3  \n",
       "238  0.1000  0.0500         4  \n",
       "117  0.0936  0.0468         3  \n",
       "242  0.0941  0.0470         4  \n",
       "\n",
       "[246 rows x 8 columns]"
      ]
     },
     "execution_count": 141,
     "metadata": {},
     "output_type": "execute_result"
    }
   ],
   "source": [
    "output_table = pd.DataFrame.from_dict(sfs.get_metric_dict()).T.sort_values('avg_score', ascending=False)\n",
    "output_table['num_vars'] = output_table['feature_idx'].apply(lambda x: len(x))\n",
    "output_table"
   ]
  },
  {
   "cell_type": "markdown",
   "id": "4caefe29",
   "metadata": {},
   "source": [
    "**Note: There are branch-and-bound algorithms to identify (approximately) the top subsets of variables in other programming languages**\n",
    "\n",
    "* R has the regsubsets function: https://www.rdocumentation.org/packages/leaps/versions/3.1/topics/regsubsets\n",
    "* SAS has subsets selection for OLS, Logistic, and a few other regressions\n",
    "\n",
    "Please let us know if you are aware of good Python implementations of a heuristic best subsets algorithm.\n",
    "\n",
    "Genetic algorithms may provide a good solution. A code implementation is to come. There is also a library here: https://abess.readthedocs.io/en/latest/"
   ]
  },
  {
   "cell_type": "markdown",
   "id": "ac8707b0",
   "metadata": {},
   "source": [
    "# Use of regularized regression (LASSO) for variable selection\n",
    "\n",
    "Regularized regression with L1 penalty (sum of absolute value of coefficients) can be used to eliminate variables. Sklearn provides LASSO (and Elastic Net).\n",
    "\n",
    "These are available for linear model relationships and not generalized-linear. However, as a heuristic tool, it is acceptable to use it with generalized linear models by transforming the dependent variable values (e.g. log-transform for Poisson regression). \n",
    "\n",
    "Here we will just use LASSO Regression. See the 'regression calibration notebook' for details on Elastic Net. "
   ]
  },
  {
   "cell_type": "markdown",
   "id": "e83445f6",
   "metadata": {},
   "source": [
    "**We have created a lasso_linear_regression function that simplifies the process (automatically standardizes variables and allows for forced in variables)**\n",
    "\n",
    "For purposes of variable selection to identify potential candidate models for e.g. OLS regression, rather than calibrating a single LASSO model, we run LASSO without cross-validation and tuning. "
   ]
  },
  {
   "cell_type": "code",
   "execution_count": 157,
   "id": "c65ab260",
   "metadata": {},
   "outputs": [
    {
     "data": {
      "text/html": [
       "<div>\n",
       "<style scoped>\n",
       "    .dataframe tbody tr th:only-of-type {\n",
       "        vertical-align: middle;\n",
       "    }\n",
       "\n",
       "    .dataframe tbody tr th {\n",
       "        vertical-align: top;\n",
       "    }\n",
       "\n",
       "    .dataframe thead th {\n",
       "        text-align: right;\n",
       "    }\n",
       "</style>\n",
       "<table border=\"1\" class=\"dataframe\">\n",
       "  <thead>\n",
       "    <tr style=\"text-align: right;\">\n",
       "      <th></th>\n",
       "      <th>Alpha</th>\n",
       "      <th>Variables</th>\n",
       "      <th>Converged?</th>\n",
       "      <th>Rsq</th>\n",
       "      <th>Intercept</th>\n",
       "      <th>AveBedrms Coef</th>\n",
       "      <th>AveOccup Coef</th>\n",
       "      <th>Log_Population Coef</th>\n",
       "      <th>Latitude Coef</th>\n",
       "      <th>AveRooms Coef</th>\n",
       "      <th>MedInc Coef</th>\n",
       "      <th>HouseAge Coef</th>\n",
       "      <th>Population Coef</th>\n",
       "      <th>Longitude Coef</th>\n",
       "    </tr>\n",
       "  </thead>\n",
       "  <tbody>\n",
       "    <tr>\n",
       "      <th>0</th>\n",
       "      <td>0.0001</td>\n",
       "      <td>AveBedrms;AveOccup;Log_Population;Latitude;Ave...</td>\n",
       "      <td>True</td>\n",
       "      <td>0.6063</td>\n",
       "      <td>2.0686</td>\n",
       "      <td>0.3029</td>\n",
       "      <td>-0.0394</td>\n",
       "      <td>-0.0154</td>\n",
       "      <td>-0.9010</td>\n",
       "      <td>-0.2644</td>\n",
       "      <td>0.8287</td>\n",
       "      <td>0.1182</td>\n",
       "      <td>0.0073</td>\n",
       "      <td>-0.8709</td>\n",
       "    </tr>\n",
       "    <tr>\n",
       "      <th>1</th>\n",
       "      <td>0.0010</td>\n",
       "      <td>AveBedrms;AveOccup;Log_Population;Latitude;Ave...</td>\n",
       "      <td>True</td>\n",
       "      <td>0.6063</td>\n",
       "      <td>2.0686</td>\n",
       "      <td>0.2976</td>\n",
       "      <td>-0.0384</td>\n",
       "      <td>-0.0105</td>\n",
       "      <td>-0.8896</td>\n",
       "      <td>-0.2588</td>\n",
       "      <td>0.8268</td>\n",
       "      <td>0.1185</td>\n",
       "      <td>0.0026</td>\n",
       "      <td>-0.8594</td>\n",
       "    </tr>\n",
       "    <tr>\n",
       "      <th>2</th>\n",
       "      <td>0.0050</td>\n",
       "      <td>AveBedrms;AveOccup;Log_Population;Latitude;Ave...</td>\n",
       "      <td>True</td>\n",
       "      <td>0.6056</td>\n",
       "      <td>2.0686</td>\n",
       "      <td>0.2719</td>\n",
       "      <td>-0.0347</td>\n",
       "      <td>-0.0026</td>\n",
       "      <td>-0.8391</td>\n",
       "      <td>-0.2324</td>\n",
       "      <td>0.8177</td>\n",
       "      <td>0.1215</td>\n",
       "      <td>-0.0000</td>\n",
       "      <td>-0.8080</td>\n",
       "    </tr>\n",
       "    <tr>\n",
       "      <th>3</th>\n",
       "      <td>0.0100</td>\n",
       "      <td>AveBedrms;AveOccup;Latitude;AveRooms;MedInc;Ho...</td>\n",
       "      <td>True</td>\n",
       "      <td>0.6037</td>\n",
       "      <td>2.0686</td>\n",
       "      <td>0.2388</td>\n",
       "      <td>-0.0300</td>\n",
       "      <td>-0.0000</td>\n",
       "      <td>-0.7776</td>\n",
       "      <td>-0.1995</td>\n",
       "      <td>0.8060</td>\n",
       "      <td>0.1243</td>\n",
       "      <td>-0.0000</td>\n",
       "      <td>-0.7450</td>\n",
       "    </tr>\n",
       "    <tr>\n",
       "      <th>4</th>\n",
       "      <td>0.0500</td>\n",
       "      <td>AveBedrms;Latitude;MedInc;HouseAge;Longitude</td>\n",
       "      <td>True</td>\n",
       "      <td>0.5463</td>\n",
       "      <td>2.0686</td>\n",
       "      <td>0.0248</td>\n",
       "      <td>-0.0000</td>\n",
       "      <td>0.0000</td>\n",
       "      <td>-0.2733</td>\n",
       "      <td>-0.0000</td>\n",
       "      <td>0.7369</td>\n",
       "      <td>0.1397</td>\n",
       "      <td>0.0000</td>\n",
       "      <td>-0.2298</td>\n",
       "    </tr>\n",
       "    <tr>\n",
       "      <th>5</th>\n",
       "      <td>0.1000</td>\n",
       "      <td>AveBedrms;Latitude;MedInc;HouseAge</td>\n",
       "      <td>True</td>\n",
       "      <td>0.4937</td>\n",
       "      <td>2.0686</td>\n",
       "      <td>-0.0010</td>\n",
       "      <td>-0.0000</td>\n",
       "      <td>0.0000</td>\n",
       "      <td>-0.0111</td>\n",
       "      <td>-0.0000</td>\n",
       "      <td>0.7056</td>\n",
       "      <td>0.1059</td>\n",
       "      <td>-0.0000</td>\n",
       "      <td>-0.0000</td>\n",
       "    </tr>\n",
       "    <tr>\n",
       "      <th>6</th>\n",
       "      <td>0.2500</td>\n",
       "      <td>AveBedrms;MedInc</td>\n",
       "      <td>True</td>\n",
       "      <td>0.4264</td>\n",
       "      <td>2.0686</td>\n",
       "      <td>-0.0200</td>\n",
       "      <td>-0.0000</td>\n",
       "      <td>-0.0000</td>\n",
       "      <td>-0.0000</td>\n",
       "      <td>0.0000</td>\n",
       "      <td>0.5428</td>\n",
       "      <td>0.0000</td>\n",
       "      <td>-0.0000</td>\n",
       "      <td>-0.0000</td>\n",
       "    </tr>\n",
       "    <tr>\n",
       "      <th>7</th>\n",
       "      <td>0.5000</td>\n",
       "      <td>AveBedrms;MedInc</td>\n",
       "      <td>True</td>\n",
       "      <td>0.2850</td>\n",
       "      <td>2.0686</td>\n",
       "      <td>-0.0353</td>\n",
       "      <td>-0.0000</td>\n",
       "      <td>-0.0000</td>\n",
       "      <td>-0.0000</td>\n",
       "      <td>0.0000</td>\n",
       "      <td>0.2918</td>\n",
       "      <td>0.0000</td>\n",
       "      <td>-0.0000</td>\n",
       "      <td>-0.0000</td>\n",
       "    </tr>\n",
       "    <tr>\n",
       "      <th>8</th>\n",
       "      <td>0.7500</td>\n",
       "      <td>AveBedrms;MedInc</td>\n",
       "      <td>True</td>\n",
       "      <td>0.0494</td>\n",
       "      <td>2.0686</td>\n",
       "      <td>-0.0506</td>\n",
       "      <td>-0.0000</td>\n",
       "      <td>-0.0000</td>\n",
       "      <td>-0.0000</td>\n",
       "      <td>0.0000</td>\n",
       "      <td>0.0408</td>\n",
       "      <td>0.0000</td>\n",
       "      <td>-0.0000</td>\n",
       "      <td>-0.0000</td>\n",
       "    </tr>\n",
       "    <tr>\n",
       "      <th>9</th>\n",
       "      <td>1.0000</td>\n",
       "      <td>AveBedrms</td>\n",
       "      <td>True</td>\n",
       "      <td>0.0022</td>\n",
       "      <td>2.0686</td>\n",
       "      <td>-0.0529</td>\n",
       "      <td>-0.0000</td>\n",
       "      <td>-0.0000</td>\n",
       "      <td>-0.0000</td>\n",
       "      <td>0.0000</td>\n",
       "      <td>0.0000</td>\n",
       "      <td>0.0000</td>\n",
       "      <td>-0.0000</td>\n",
       "      <td>-0.0000</td>\n",
       "    </tr>\n",
       "    <tr>\n",
       "      <th>10</th>\n",
       "      <td>2.5000</td>\n",
       "      <td>AveBedrms</td>\n",
       "      <td>True</td>\n",
       "      <td>0.0022</td>\n",
       "      <td>2.0686</td>\n",
       "      <td>-0.0514</td>\n",
       "      <td>-0.0000</td>\n",
       "      <td>-0.0000</td>\n",
       "      <td>-0.0000</td>\n",
       "      <td>0.0000</td>\n",
       "      <td>0.0000</td>\n",
       "      <td>0.0000</td>\n",
       "      <td>-0.0000</td>\n",
       "      <td>-0.0000</td>\n",
       "    </tr>\n",
       "    <tr>\n",
       "      <th>11</th>\n",
       "      <td>5.0000</td>\n",
       "      <td>AveBedrms</td>\n",
       "      <td>True</td>\n",
       "      <td>0.0022</td>\n",
       "      <td>2.0686</td>\n",
       "      <td>-0.0489</td>\n",
       "      <td>-0.0000</td>\n",
       "      <td>-0.0000</td>\n",
       "      <td>-0.0000</td>\n",
       "      <td>0.0000</td>\n",
       "      <td>0.0000</td>\n",
       "      <td>0.0000</td>\n",
       "      <td>-0.0000</td>\n",
       "      <td>-0.0000</td>\n",
       "    </tr>\n",
       "    <tr>\n",
       "      <th>12</th>\n",
       "      <td>10.0000</td>\n",
       "      <td>AveBedrms</td>\n",
       "      <td>True</td>\n",
       "      <td>0.0021</td>\n",
       "      <td>2.0686</td>\n",
       "      <td>-0.0439</td>\n",
       "      <td>-0.0000</td>\n",
       "      <td>-0.0000</td>\n",
       "      <td>-0.0000</td>\n",
       "      <td>0.0000</td>\n",
       "      <td>0.0000</td>\n",
       "      <td>0.0000</td>\n",
       "      <td>-0.0000</td>\n",
       "      <td>-0.0000</td>\n",
       "    </tr>\n",
       "  </tbody>\n",
       "</table>\n",
       "</div>"
      ],
      "text/plain": [
       "     Alpha                                          Variables  Converged?  \\\n",
       "0   0.0001  AveBedrms;AveOccup;Log_Population;Latitude;Ave...        True   \n",
       "1   0.0010  AveBedrms;AveOccup;Log_Population;Latitude;Ave...        True   \n",
       "2   0.0050  AveBedrms;AveOccup;Log_Population;Latitude;Ave...        True   \n",
       "3   0.0100  AveBedrms;AveOccup;Latitude;AveRooms;MedInc;Ho...        True   \n",
       "4   0.0500       AveBedrms;Latitude;MedInc;HouseAge;Longitude        True   \n",
       "5   0.1000                 AveBedrms;Latitude;MedInc;HouseAge        True   \n",
       "6   0.2500                                   AveBedrms;MedInc        True   \n",
       "7   0.5000                                   AveBedrms;MedInc        True   \n",
       "8   0.7500                                   AveBedrms;MedInc        True   \n",
       "9   1.0000                                          AveBedrms        True   \n",
       "10  2.5000                                          AveBedrms        True   \n",
       "11  5.0000                                          AveBedrms        True   \n",
       "12 10.0000                                          AveBedrms        True   \n",
       "\n",
       "      Rsq  Intercept  AveBedrms Coef  AveOccup Coef  Log_Population Coef  \\\n",
       "0  0.6063     2.0686          0.3029        -0.0394              -0.0154   \n",
       "1  0.6063     2.0686          0.2976        -0.0384              -0.0105   \n",
       "2  0.6056     2.0686          0.2719        -0.0347              -0.0026   \n",
       "3  0.6037     2.0686          0.2388        -0.0300              -0.0000   \n",
       "4  0.5463     2.0686          0.0248        -0.0000               0.0000   \n",
       "5  0.4937     2.0686         -0.0010        -0.0000               0.0000   \n",
       "6  0.4264     2.0686         -0.0200        -0.0000              -0.0000   \n",
       "7  0.2850     2.0686         -0.0353        -0.0000              -0.0000   \n",
       "8  0.0494     2.0686         -0.0506        -0.0000              -0.0000   \n",
       "9  0.0022     2.0686         -0.0529        -0.0000              -0.0000   \n",
       "10 0.0022     2.0686         -0.0514        -0.0000              -0.0000   \n",
       "11 0.0022     2.0686         -0.0489        -0.0000              -0.0000   \n",
       "12 0.0021     2.0686         -0.0439        -0.0000              -0.0000   \n",
       "\n",
       "    Latitude Coef  AveRooms Coef  MedInc Coef  HouseAge Coef  Population Coef  \\\n",
       "0         -0.9010        -0.2644       0.8287         0.1182           0.0073   \n",
       "1         -0.8896        -0.2588       0.8268         0.1185           0.0026   \n",
       "2         -0.8391        -0.2324       0.8177         0.1215          -0.0000   \n",
       "3         -0.7776        -0.1995       0.8060         0.1243          -0.0000   \n",
       "4         -0.2733        -0.0000       0.7369         0.1397           0.0000   \n",
       "5         -0.0111        -0.0000       0.7056         0.1059          -0.0000   \n",
       "6         -0.0000         0.0000       0.5428         0.0000          -0.0000   \n",
       "7         -0.0000         0.0000       0.2918         0.0000          -0.0000   \n",
       "8         -0.0000         0.0000       0.0408         0.0000          -0.0000   \n",
       "9         -0.0000         0.0000       0.0000         0.0000          -0.0000   \n",
       "10        -0.0000         0.0000       0.0000         0.0000          -0.0000   \n",
       "11        -0.0000         0.0000       0.0000         0.0000          -0.0000   \n",
       "12        -0.0000         0.0000       0.0000         0.0000          -0.0000   \n",
       "\n",
       "    Longitude Coef  \n",
       "0          -0.8709  \n",
       "1          -0.8594  \n",
       "2          -0.8080  \n",
       "3          -0.7450  \n",
       "4          -0.2298  \n",
       "5          -0.0000  \n",
       "6          -0.0000  \n",
       "7          -0.0000  \n",
       "8          -0.0000  \n",
       "9          -0.0000  \n",
       "10         -0.0000  \n",
       "11         -0.0000  \n",
       "12         -0.0000  "
      ]
     },
     "execution_count": 157,
     "metadata": {},
     "output_type": "execute_result"
    }
   ],
   "source": [
    "lasso_variables = sklearn_regression_tools.lasso_linear_regression(\n",
    "    dataset = dataset,\n",
    "    DV = 'MedHouseVal', # dependent variable (target),\n",
    "    IVs = candidate_x, # independent variables (candidate x-variables)\n",
    "    forced_in = ['AveBedrms'],\n",
    "    intercept=True,\n",
    "    alpha_list = [0.0001, 0.001, 0.005, 0.01, 0.05, 0.1, 0.25, 0.5, 0.75, 1, 2.5, 5, 10] # Wide range of LASSO penalties to use. Higher penalty = fewer variables.\n",
    ")\n",
    "# You can tweak the alpha_list if most penalties result in the same list of variables\n",
    "\n",
    "lasso_variables"
   ]
  },
  {
   "cell_type": "markdown",
   "id": "b1698bb4",
   "metadata": {},
   "source": [
    "# Selection from custom list of multifactor regression results\n",
    "\n",
    "After using variable selection such as those techniques above, or through expert judgment, you will arrive at a list of candidate models. This list could still be very long (e.g. if identified through exhaustive search) so you don't want to review each model separately. Instead you want to run a large number of regressions for comparison.\n",
    "\n",
    "We have available a Multifactor regression function that provides these capabilities. You specify the following:\n",
    "* Model class, e.g. LinearRegression()\n",
    "* Dataset\n",
    "* Table with variable names (with column names 'Var 1', 'Var 2', 'Var 3', etc.)\n",
    "* Whether to return the fitted values\n",
    "\n",
    "When examining a large number of models at once, we avoid looking at out-of-sample results to avoid overfitting based on out of sample. Models that perform reasonably in-sample (not necessarily the best fit) and are sensible, are then examined further in out-of-sample testing."
   ]
  },
  {
   "cell_type": "code",
   "execution_count": 171,
   "id": "871ecebc",
   "metadata": {},
   "outputs": [
    {
     "data": {
      "text/html": [
       "<div>\n",
       "<style scoped>\n",
       "    .dataframe tbody tr th:only-of-type {\n",
       "        vertical-align: middle;\n",
       "    }\n",
       "\n",
       "    .dataframe tbody tr th {\n",
       "        vertical-align: top;\n",
       "    }\n",
       "\n",
       "    .dataframe thead th {\n",
       "        text-align: right;\n",
       "    }\n",
       "</style>\n",
       "<table border=\"1\" class=\"dataframe\">\n",
       "  <thead>\n",
       "    <tr style=\"text-align: right;\">\n",
       "      <th></th>\n",
       "      <th>Var 1</th>\n",
       "      <th>Var 2</th>\n",
       "      <th>Var 3</th>\n",
       "      <th>Var 4</th>\n",
       "      <th>Var 5</th>\n",
       "      <th>Var 6</th>\n",
       "      <th>Var 7</th>\n",
       "    </tr>\n",
       "  </thead>\n",
       "  <tbody>\n",
       "    <tr>\n",
       "      <th>3</th>\n",
       "      <td>AveBedrms</td>\n",
       "      <td>AveOccup</td>\n",
       "      <td>Latitude</td>\n",
       "      <td>AveRooms</td>\n",
       "      <td>MedInc</td>\n",
       "      <td>HouseAge</td>\n",
       "      <td>Longitude</td>\n",
       "    </tr>\n",
       "    <tr>\n",
       "      <th>4</th>\n",
       "      <td>AveBedrms</td>\n",
       "      <td>Latitude</td>\n",
       "      <td>MedInc</td>\n",
       "      <td>HouseAge</td>\n",
       "      <td>Longitude</td>\n",
       "      <td>NaN</td>\n",
       "      <td>NaN</td>\n",
       "    </tr>\n",
       "    <tr>\n",
       "      <th>6</th>\n",
       "      <td>AveBedrms</td>\n",
       "      <td>MedInc</td>\n",
       "      <td>NaN</td>\n",
       "      <td>NaN</td>\n",
       "      <td>NaN</td>\n",
       "      <td>NaN</td>\n",
       "      <td>NaN</td>\n",
       "    </tr>\n",
       "  </tbody>\n",
       "</table>\n",
       "</div>"
      ],
      "text/plain": [
       "       Var 1     Var 2     Var 3     Var 4      Var 5     Var 6      Var 7\n",
       "3  AveBedrms  AveOccup  Latitude  AveRooms     MedInc  HouseAge  Longitude\n",
       "4  AveBedrms  Latitude    MedInc  HouseAge  Longitude       NaN        NaN\n",
       "6  AveBedrms    MedInc       NaN       NaN        NaN       NaN        NaN"
      ]
     },
     "execution_count": 171,
     "metadata": {},
     "output_type": "execute_result"
    }
   ],
   "source": [
    "# We create a dataframe with the x-variables in the candidate model to consider. \n",
    "# We can use the output from the lasso regression previously\n",
    "\n",
    "lasso_variable_index = [3,4,6]\n",
    "x_var_table = lasso_variables.loc[lasso_variable_index, \"Variables\"].apply(lambda x: pd.Series(x.split(';')))\n",
    "x_var_table.columns = [\"Var {}\".format(int(i)+1) for i in x_var_table.columns]\n",
    "x_var_table"
   ]
  },
  {
   "cell_type": "code",
   "execution_count": 181,
   "id": "bf53f8ba",
   "metadata": {},
   "outputs": [
    {
     "name": "stdout",
     "output_type": "stream",
     "text": [
      "Working on model 1 out of 3\n",
      "Working on model 2 out of 3\n",
      "Working on model 3 out of 3\n"
     ]
    },
    {
     "data": {
      "text/html": [
       "<div>\n",
       "<style scoped>\n",
       "    .dataframe tbody tr th:only-of-type {\n",
       "        vertical-align: middle;\n",
       "    }\n",
       "\n",
       "    .dataframe tbody tr th {\n",
       "        vertical-align: top;\n",
       "    }\n",
       "\n",
       "    .dataframe thead th {\n",
       "        text-align: right;\n",
       "    }\n",
       "</style>\n",
       "<table border=\"1\" class=\"dataframe\">\n",
       "  <thead>\n",
       "    <tr style=\"text-align: right;\">\n",
       "      <th></th>\n",
       "      <th>Var 1</th>\n",
       "      <th>Var 2</th>\n",
       "      <th>Var 3</th>\n",
       "      <th>Var 4</th>\n",
       "      <th>Var 5</th>\n",
       "      <th>Var 6</th>\n",
       "      <th>Var 7</th>\n",
       "      <th># Obs</th>\n",
       "      <th># Miss</th>\n",
       "      <th>Intercept</th>\n",
       "      <th>...</th>\n",
       "      <th>Var 3 Coef</th>\n",
       "      <th>Var 4 Coef</th>\n",
       "      <th>Var 5 Coef</th>\n",
       "      <th>Var 6 Coef</th>\n",
       "      <th>Var 7 Coef</th>\n",
       "      <th>Rsq</th>\n",
       "      <th>Variance Explained</th>\n",
       "      <th>RMSE</th>\n",
       "      <th>MAE</th>\n",
       "      <th>Max_VIF</th>\n",
       "    </tr>\n",
       "  </thead>\n",
       "  <tbody>\n",
       "    <tr>\n",
       "      <th>0</th>\n",
       "      <td>AveBedrms</td>\n",
       "      <td>AveOccup</td>\n",
       "      <td>Latitude</td>\n",
       "      <td>AveRooms</td>\n",
       "      <td>MedInc</td>\n",
       "      <td>HouseAge</td>\n",
       "      <td>Longitude</td>\n",
       "      <td>20640</td>\n",
       "      <td>0</td>\n",
       "      <td>-36.9175</td>\n",
       "      <td>...</td>\n",
       "      <td>-0.4207</td>\n",
       "      <td>-0.1071</td>\n",
       "      <td>0.4368</td>\n",
       "      <td>0.0096</td>\n",
       "      <td>-0.4340</td>\n",
       "      <td>0.6062</td>\n",
       "      <td>0.6062</td>\n",
       "      <td>0.7241</td>\n",
       "      <td>0.5312</td>\n",
       "      <td>9.2008</td>\n",
       "    </tr>\n",
       "    <tr>\n",
       "      <th>1</th>\n",
       "      <td>AveBedrms</td>\n",
       "      <td>Latitude</td>\n",
       "      <td>MedInc</td>\n",
       "      <td>HouseAge</td>\n",
       "      <td>Longitude</td>\n",
       "      <td>NaN</td>\n",
       "      <td>NaN</td>\n",
       "      <td>20640</td>\n",
       "      <td>0</td>\n",
       "      <td>-39.7938</td>\n",
       "      <td>...</td>\n",
       "      <td>0.3791</td>\n",
       "      <td>0.0098</td>\n",
       "      <td>-0.4721</td>\n",
       "      <td>NaN</td>\n",
       "      <td>NaN</td>\n",
       "      <td>0.5988</td>\n",
       "      <td>0.5988</td>\n",
       "      <td>0.7309</td>\n",
       "      <td>0.5399</td>\n",
       "      <td>8.2631</td>\n",
       "    </tr>\n",
       "    <tr>\n",
       "      <th>2</th>\n",
       "      <td>AveBedrms</td>\n",
       "      <td>MedInc</td>\n",
       "      <td>NaN</td>\n",
       "      <td>NaN</td>\n",
       "      <td>NaN</td>\n",
       "      <td>NaN</td>\n",
       "      <td>NaN</td>\n",
       "      <td>20640</td>\n",
       "      <td>0</td>\n",
       "      <td>0.4622</td>\n",
       "      <td>...</td>\n",
       "      <td>NaN</td>\n",
       "      <td>NaN</td>\n",
       "      <td>NaN</td>\n",
       "      <td>NaN</td>\n",
       "      <td>NaN</td>\n",
       "      <td>0.4735</td>\n",
       "      <td>0.4735</td>\n",
       "      <td>0.8373</td>\n",
       "      <td>0.6262</td>\n",
       "      <td>1.0039</td>\n",
       "    </tr>\n",
       "  </tbody>\n",
       "</table>\n",
       "<p>3 rows × 22 columns</p>\n",
       "</div>"
      ],
      "text/plain": [
       "       Var 1     Var 2     Var 3     Var 4      Var 5     Var 6      Var 7  \\\n",
       "0  AveBedrms  AveOccup  Latitude  AveRooms     MedInc  HouseAge  Longitude   \n",
       "1  AveBedrms  Latitude    MedInc  HouseAge  Longitude       NaN        NaN   \n",
       "2  AveBedrms    MedInc       NaN       NaN        NaN       NaN        NaN   \n",
       "\n",
       "   # Obs  # Miss  Intercept  ...  Var 3 Coef  Var 4 Coef  Var 5 Coef  \\\n",
       "0  20640       0   -36.9175  ...     -0.4207     -0.1071      0.4368   \n",
       "1  20640       0   -39.7938  ...      0.3791      0.0098     -0.4721   \n",
       "2  20640       0     0.4622  ...         NaN         NaN         NaN   \n",
       "\n",
       "   Var 6 Coef  Var 7 Coef    Rsq  Variance Explained   RMSE    MAE  Max_VIF  \n",
       "0      0.0096     -0.4340 0.6062              0.6062 0.7241 0.5312   9.2008  \n",
       "1         NaN         NaN 0.5988              0.5988 0.7309 0.5399   8.2631  \n",
       "2         NaN         NaN 0.4735              0.4735 0.8373 0.6262   1.0039  \n",
       "\n",
       "[3 rows x 22 columns]"
      ]
     },
     "execution_count": 181,
     "metadata": {},
     "output_type": "execute_result"
    }
   ],
   "source": [
    "summary, fitted = sklearn_regression_tools.mfa_linear_models(\n",
    "    model, \n",
    "    dataset = dataset,\n",
    "    DV = 'MedHouseVal', # dependent variable (target),\n",
    "    IV_table = x_var_table, # independent variables (candidate x-variables)\n",
    "    get_fitted=True\n",
    ")\n",
    "\n",
    "summary"
   ]
  },
  {
   "cell_type": "code",
   "execution_count": 180,
   "id": "68478b54",
   "metadata": {},
   "outputs": [
    {
     "data": {
      "image/png": "[encoded data removed]",
      "text/plain": [
       "<Figure size 720x432 with 1 Axes>"
      ]
     },
     "metadata": {
      "needs_background": "light"
     },
     "output_type": "display_data"
    }
   ],
   "source": [
    "# Rapid comparison of the 3 models\n",
    "fig,ax, table = model_comparison.act_vs_pred_comparison(frame = fitted, \n",
    "                                                   actual = \"Actual\",\n",
    "                                                   predicted = [\"Model 1\", \"Model 2\", \"Model 3\"],\n",
    "                                                   colormap = ow_colormap(\"ow_full\"),\n",
    "                                                   bins = 50,\n",
    "                                                   equalize_axes = False)"
   ]
  },
  {
   "cell_type": "markdown",
   "id": "553c6f68",
   "metadata": {},
   "source": [
    "# Experimental methods"
   ]
  },
  {
   "cell_type": "markdown",
   "id": "ad4585a9",
   "metadata": {},
   "source": [
    "## Custom step-wise methods for Generalized Linear Models\n",
    "\n",
    "In the glm_regression.py file, we have created functionality for calibrating generalized linear models (with p-values) and performing forward and subsets selection for OLS (and Logistic regression).\n",
    "\n",
    "Estimation of these GLM models are covered in further detail in the Experimental Methods in the sklearn Model Calibration and Fit notebook."
   ]
  },
  {
   "cell_type": "code",
   "execution_count": 184,
   "id": "03d76f65",
   "metadata": {},
   "outputs": [],
   "source": [
    "# Import the module\n",
    "from regression import glm_regression"
   ]
  },
  {
   "cell_type": "code",
   "execution_count": 185,
   "id": "70a48591",
   "metadata": {},
   "outputs": [
    {
     "name": "stdout",
     "output_type": "stream",
     "text": [
      "Removed 0 rows with missing values, to yield a model dataset of 20640 rows\n"
     ]
    }
   ],
   "source": [
    "# Remove missing values\n",
    "model_dataset = dataset[[target] + candidate_x].dropna()\n",
    "print(\"Removed {} rows with missing values, to yield a model dataset of {} rows\".format(dataset.shape[0] - model_dataset.shape[0], model_dataset.shape[0]))\n",
    "\n",
    "# Split into Y and X datasets\n",
    "Y = model_dataset[target]\n",
    "X = model_dataset[candidate_x]"
   ]
  },
  {
   "cell_type": "markdown",
   "id": "b4746077",
   "metadata": {},
   "source": [
    "**OLS Regression - Forward selection**"
   ]
  },
  {
   "cell_type": "code",
   "execution_count": 194,
   "id": "6f3504dd",
   "metadata": {},
   "outputs": [
    {
     "name": "stdout",
     "output_type": "stream",
     "text": [
      "Processed  8 models on 1 predictors in 0.04699540138244629 seconds.\n",
      "Processed  7 models on 2 predictors in 0.051004648208618164 seconds.\n",
      "Processed  6 models on 3 predictors in 0.046999216079711914 seconds.\n",
      "Processed  5 models on 4 predictors in 0.03500175476074219 seconds.\n",
      "Processed  4 models on 5 predictors in 0.028995037078857422 seconds.\n",
      "Processed  3 models on 6 predictors in 0.03100419044494629 seconds.\n"
     ]
    },
    {
     "data": {
      "text/html": [
       "<div>\n",
       "<style scoped>\n",
       "    .dataframe tbody tr th:only-of-type {\n",
       "        vertical-align: middle;\n",
       "    }\n",
       "\n",
       "    .dataframe tbody tr th {\n",
       "        vertical-align: top;\n",
       "    }\n",
       "\n",
       "    .dataframe thead th {\n",
       "        text-align: right;\n",
       "    }\n",
       "</style>\n",
       "<table border=\"1\" class=\"dataframe\">\n",
       "  <thead>\n",
       "    <tr style=\"text-align: right;\">\n",
       "      <th></th>\n",
       "      <th>statistic</th>\n",
       "      <th>value</th>\n",
       "      <th>num_var</th>\n",
       "      <th>vars</th>\n",
       "      <th>Vars</th>\n",
       "    </tr>\n",
       "  </thead>\n",
       "  <tbody>\n",
       "    <tr>\n",
       "      <th>0</th>\n",
       "      <td>RSS</td>\n",
       "      <td>14,307.4541</td>\n",
       "      <td>2</td>\n",
       "      <td>[AveRooms, MedInc]</td>\n",
       "      <td>[AveRooms, MedInc]</td>\n",
       "    </tr>\n",
       "    <tr>\n",
       "      <th>1</th>\n",
       "      <td>RSS</td>\n",
       "      <td>13,409.0006</td>\n",
       "      <td>3</td>\n",
       "      <td>[AveRooms, MedInc, HouseAge]</td>\n",
       "      <td>[AveRooms, MedInc, HouseAge]</td>\n",
       "    </tr>\n",
       "    <tr>\n",
       "      <th>2</th>\n",
       "      <td>RSS</td>\n",
       "      <td>12,711.2812</td>\n",
       "      <td>4</td>\n",
       "      <td>[AveRooms, MedInc, HouseAge, AveBedrms]</td>\n",
       "      <td>[AveRooms, MedInc, HouseAge, AveBedrms]</td>\n",
       "    </tr>\n",
       "    <tr>\n",
       "      <th>3</th>\n",
       "      <td>RSS</td>\n",
       "      <td>12,621.8180</td>\n",
       "      <td>5</td>\n",
       "      <td>[AveRooms, MedInc, HouseAge, AveBedrms, Latitude]</td>\n",
       "      <td>[AveRooms, MedInc, HouseAge, AveBedrms, Latitude]</td>\n",
       "    </tr>\n",
       "    <tr>\n",
       "      <th>4</th>\n",
       "      <td>RSS</td>\n",
       "      <td>10,854.7700</td>\n",
       "      <td>6</td>\n",
       "      <td>[AveRooms, MedInc, HouseAge, AveBedrms, Latitu...</td>\n",
       "      <td>[AveRooms, MedInc, HouseAge, AveBedrms, Latitu...</td>\n",
       "    </tr>\n",
       "    <tr>\n",
       "      <th>5</th>\n",
       "      <td>RSS</td>\n",
       "      <td>10,822.3529</td>\n",
       "      <td>7</td>\n",
       "      <td>[AveRooms, MedInc, HouseAge, AveBedrms, Latitu...</td>\n",
       "      <td>[AveRooms, MedInc, HouseAge, AveBedrms, Latitu...</td>\n",
       "    </tr>\n",
       "  </tbody>\n",
       "</table>\n",
       "</div>"
      ],
      "text/plain": [
       "  statistic       value  num_var  \\\n",
       "0       RSS 14,307.4541        2   \n",
       "1       RSS 13,409.0006        3   \n",
       "2       RSS 12,711.2812        4   \n",
       "3       RSS 12,621.8180        5   \n",
       "4       RSS 10,854.7700        6   \n",
       "5       RSS 10,822.3529        7   \n",
       "\n",
       "                                                vars  \\\n",
       "0                                 [AveRooms, MedInc]   \n",
       "1                       [AveRooms, MedInc, HouseAge]   \n",
       "2            [AveRooms, MedInc, HouseAge, AveBedrms]   \n",
       "3  [AveRooms, MedInc, HouseAge, AveBedrms, Latitude]   \n",
       "4  [AveRooms, MedInc, HouseAge, AveBedrms, Latitu...   \n",
       "5  [AveRooms, MedInc, HouseAge, AveBedrms, Latitu...   \n",
       "\n",
       "                                                Vars  \n",
       "0                                 [AveRooms, MedInc]  \n",
       "1                       [AveRooms, MedInc, HouseAge]  \n",
       "2            [AveRooms, MedInc, HouseAge, AveBedrms]  \n",
       "3  [AveRooms, MedInc, HouseAge, AveBedrms, Latitude]  \n",
       "4  [AveRooms, MedInc, HouseAge, AveBedrms, Latitu...  \n",
       "5  [AveRooms, MedInc, HouseAge, AveBedrms, Latitu...  "
      ]
     },
     "execution_count": 194,
     "metadata": {},
     "output_type": "execute_result"
    }
   ],
   "source": [
    "best_results, best_models, master_results = glm_regression.forward(\n",
    "    X = X, \n",
    "    y = Y, \n",
    "    max_var = 6, # Number of variables in addition to forced in variables\n",
    "    regression_type = \"OLS\", \n",
    "    weight = None, \n",
    "    forced_in = [\"AveRooms\"])\n",
    "\n",
    "pd.DataFrame(best_results)"
   ]
  },
  {
   "cell_type": "markdown",
   "id": "42a299d2",
   "metadata": {},
   "source": [
    "**Poisson Regression - Exhaustive search**"
   ]
  },
  {
   "cell_type": "code",
   "execution_count": 195,
   "id": "d0576e07",
   "metadata": {},
   "outputs": [
    {
     "name": "stdout",
     "output_type": "stream",
     "text": [
      "Processed 8 models on 1 predictors in 0.0400 seconds.\n",
      "Processed 28 models on 2 predictors in 0.1420 seconds.\n",
      "Processed 56 models on 3 predictors in 0.3910 seconds.\n"
     ]
    },
    {
     "data": {
      "text/html": [
       "<div>\n",
       "<style scoped>\n",
       "    .dataframe tbody tr th:only-of-type {\n",
       "        vertical-align: middle;\n",
       "    }\n",
       "\n",
       "    .dataframe tbody tr th {\n",
       "        vertical-align: top;\n",
       "    }\n",
       "\n",
       "    .dataframe thead th {\n",
       "        text-align: right;\n",
       "    }\n",
       "</style>\n",
       "<table border=\"1\" class=\"dataframe\">\n",
       "  <thead>\n",
       "    <tr style=\"text-align: right;\">\n",
       "      <th></th>\n",
       "      <th>statistic</th>\n",
       "      <th>value</th>\n",
       "      <th>num_var</th>\n",
       "      <th>vars</th>\n",
       "      <th>index</th>\n",
       "    </tr>\n",
       "  </thead>\n",
       "  <tbody>\n",
       "    <tr>\n",
       "      <th>78</th>\n",
       "      <td>RSS</td>\n",
       "      <td>11,402.1936</td>\n",
       "      <td>4</td>\n",
       "      <td>[AveRooms, Latitude, MedInc, Longitude]</td>\n",
       "      <td>78</td>\n",
       "    </tr>\n",
       "    <tr>\n",
       "      <th>82</th>\n",
       "      <td>RSS</td>\n",
       "      <td>12,711.2812</td>\n",
       "      <td>4</td>\n",
       "      <td>[AveRooms, AveBedrms, MedInc, HouseAge]</td>\n",
       "      <td>82</td>\n",
       "    </tr>\n",
       "    <tr>\n",
       "      <th>76</th>\n",
       "      <td>RSS</td>\n",
       "      <td>13,219.9383</td>\n",
       "      <td>4</td>\n",
       "      <td>[AveRooms, Latitude, MedInc, HouseAge]</td>\n",
       "      <td>76</td>\n",
       "    </tr>\n",
       "    <tr>\n",
       "      <th>51</th>\n",
       "      <td>RSS</td>\n",
       "      <td>13,364.7334</td>\n",
       "      <td>4</td>\n",
       "      <td>[AveRooms, AveOccup, MedInc, HouseAge]</td>\n",
       "      <td>51</td>\n",
       "    </tr>\n",
       "    <tr>\n",
       "      <th>88</th>\n",
       "      <td>RSS</td>\n",
       "      <td>13,394.2234</td>\n",
       "      <td>4</td>\n",
       "      <td>[AveRooms, MedInc, HouseAge, Population]</td>\n",
       "      <td>88</td>\n",
       "    </tr>\n",
       "    <tr>\n",
       "      <th>...</th>\n",
       "      <td>...</td>\n",
       "      <td>...</td>\n",
       "      <td>...</td>\n",
       "      <td>...</td>\n",
       "      <td>...</td>\n",
       "    </tr>\n",
       "    <tr>\n",
       "      <th>13</th>\n",
       "      <td>RSS</td>\n",
       "      <td>26,830.0692</td>\n",
       "      <td>3</td>\n",
       "      <td>[AveRooms, AveOccup, Population]</td>\n",
       "      <td>13</td>\n",
       "    </tr>\n",
       "    <tr>\n",
       "      <th>8</th>\n",
       "      <td>RSS</td>\n",
       "      <td>26,833.3859</td>\n",
       "      <td>3</td>\n",
       "      <td>[AveRooms, AveOccup, Log_Population]</td>\n",
       "      <td>8</td>\n",
       "    </tr>\n",
       "    <tr>\n",
       "      <th>0</th>\n",
       "      <td>RSS</td>\n",
       "      <td>26,834.1192</td>\n",
       "      <td>2</td>\n",
       "      <td>[AveRooms, AveOccup]</td>\n",
       "      <td>0</td>\n",
       "    </tr>\n",
       "    <tr>\n",
       "      <th>6</th>\n",
       "      <td>RSS</td>\n",
       "      <td>26,843.4903</td>\n",
       "      <td>2</td>\n",
       "      <td>[AveRooms, Population]</td>\n",
       "      <td>6</td>\n",
       "    </tr>\n",
       "    <tr>\n",
       "      <th>1</th>\n",
       "      <td>RSS</td>\n",
       "      <td>26,848.1796</td>\n",
       "      <td>2</td>\n",
       "      <td>[AveRooms, Log_Population]</td>\n",
       "      <td>1</td>\n",
       "    </tr>\n",
       "  </tbody>\n",
       "</table>\n",
       "<p>92 rows × 5 columns</p>\n",
       "</div>"
      ],
      "text/plain": [
       "   statistic       value  num_var                                      vars  \\\n",
       "78       RSS 11,402.1936        4   [AveRooms, Latitude, MedInc, Longitude]   \n",
       "82       RSS 12,711.2812        4   [AveRooms, AveBedrms, MedInc, HouseAge]   \n",
       "76       RSS 13,219.9383        4    [AveRooms, Latitude, MedInc, HouseAge]   \n",
       "51       RSS 13,364.7334        4    [AveRooms, AveOccup, MedInc, HouseAge]   \n",
       "88       RSS 13,394.2234        4  [AveRooms, MedInc, HouseAge, Population]   \n",
       "..       ...         ...      ...                                       ...   \n",
       "13       RSS 26,830.0692        3          [AveRooms, AveOccup, Population]   \n",
       "8        RSS 26,833.3859        3      [AveRooms, AveOccup, Log_Population]   \n",
       "0        RSS 26,834.1192        2                      [AveRooms, AveOccup]   \n",
       "6        RSS 26,843.4903        2                    [AveRooms, Population]   \n",
       "1        RSS 26,848.1796        2                [AveRooms, Log_Population]   \n",
       "\n",
       "    index  \n",
       "78     78  \n",
       "82     82  \n",
       "76     76  \n",
       "51     51  \n",
       "88     88  \n",
       "..    ...  \n",
       "13     13  \n",
       "8       8  \n",
       "0       0  \n",
       "6       6  \n",
       "1       1  \n",
       "\n",
       "[92 rows x 5 columns]"
      ]
     },
     "execution_count": 195,
     "metadata": {},
     "output_type": "execute_result"
    }
   ],
   "source": [
    "models, subset_results = glm_regression.getBest(\n",
    "    X = X, \n",
    "    y = Y, \n",
    "    min_var = 1, # Number of variables in addition to forced in variables\n",
    "    max_var = 3, # Number of variables in addition to forced in variables\n",
    "    regression_type = \"OLS\", \n",
    "    weight = None, \n",
    "    forced_in = [\"AveRooms\"])\n",
    "\n",
    "subset_results.sort_values(\"value\")"
   ]
  },
  {
   "cell_type": "code",
   "execution_count": null,
   "id": "5c50a803",
   "metadata": {},
   "outputs": [],
   "source": []
  }
 ],
 "metadata": {
  "kernelspec": {
   "display_name": "Python 3 (ipykernel)",
   "language": "python",
   "name": "python3"
  },
  "language_info": {
   "codemirror_mode": {
    "name": "ipython",
    "version": 3
   },
   "file_extension": ".py",
   "mimetype": "text/x-python",
   "name": "python",
   "nbconvert_exporter": "python",
   "pygments_lexer": "ipython3",
   "version": "3.9.5"
  },
  "toc": {
   "base_numbering": 1,
   "nav_menu": {
    "height": "388px",
    "width": "460px"
   },
   "number_sections": true,
   "sideBar": true,
   "skip_h1_title": false,
   "title_cell": "Table of Contents",
   "title_sidebar": "Contents",
   "toc_cell": false,
   "toc_position": {},
   "toc_section_display": true,
   "toc_window_display": true
  }
 },
 "nbformat": 4,
 "nbformat_minor": 5
}
